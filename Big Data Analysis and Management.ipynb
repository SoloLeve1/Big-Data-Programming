{
 "cells": [
  {
   "cell_type": "code",
   "execution_count": 1,
   "id": "e139780b-76b4-4886-a42e-1cecb9a55206",
   "metadata": {},
   "outputs": [],
   "source": [
    "#pip install dask\n",
    "#pip install dask-ml\n",
    "import plotly.io as pio\n",
    "#pio.renderers.default='notebook'"
   ]
  },
  {
   "cell_type": "code",
   "execution_count": 2,
   "id": "6fbee0a6-e7ba-452c-80d1-e5a5f9736cc9",
   "metadata": {},
   "outputs": [
    {
     "name": "stderr",
     "output_type": "stream",
     "text": [
      "C:\\Users\\K\\AppData\\Local\\Temp\\ipykernel_4376\\1015654004.py:2: DeprecationWarning: The current Dask DataFrame implementation is deprecated. \n",
      "In a future release, Dask DataFrame will use a new implementation that\n",
      "contains several improvements including a logical query planning.\n",
      "The user-facing DataFrame API will remain unchanged.\n",
      "\n",
      "The new implementation is already available and can be enabled by\n",
      "installing the dask-expr library:\n",
      "\n",
      "    $ pip install dask-expr\n",
      "\n",
      "and turning the query planning option on:\n",
      "\n",
      "    >>> import dask\n",
      "    >>> dask.config.set({'dataframe.query-planning': True})\n",
      "    >>> import dask.dataframe as dd\n",
      "\n",
      "API documentation for the new implementation is available at\n",
      "https://docs.dask.org/en/stable/dask-expr-api.html\n",
      "\n",
      "Any feedback can be reported on the Dask issue tracker\n",
      "https://github.com/dask/dask/issues \n",
      "\n",
      "To disable this warning in the future, set dask config:\n",
      "\n",
      "    # via Python\n",
      "    >>> dask.config.set({'dataframe.query-planning-warning': False})\n",
      "\n",
      "    # via CLI\n",
      "    dask config set dataframe.query-planning-warning False\n",
      "\n",
      "\n",
      "  import dask.dataframe as dd\n"
     ]
    }
   ],
   "source": [
    "import dask\n",
    "import dask.dataframe as dd\n",
    "from time import time\n",
    "import plotly.express as px\n",
    "import pandas as pd\n",
    "import statsmodels.api as sm\n",
    "import seaborn as sns\n",
    "from sklearn.model_selection import train_test_split\n",
    "from sklearn.metrics import r2_score, mean_squared_error\n",
    "from time import time\n",
    "import multiprocessing as mp\n",
    "import dask.dataframe as dd\n",
    "import statsmodels.api as sm\n",
    "from sklearn.model_selection import train_test_split\n",
    "from sklearn.metrics import r2_score, mean_squared_error\n",
    "from time import time\n",
    "from dask_ml.linear_model import LinearRegression\n",
    "from scipy.stats.mstats import winsorize\n",
    "import matplotlib.pyplot as plt\n",
    "import warnings\n",
    "warnings.filterwarnings('ignore')"
   ]
  },
  {
   "cell_type": "markdown",
   "id": "223318b8-1787-4c43-83d6-33e0ca595871",
   "metadata": {},
   "source": [
    "#### Data Processing"
   ]
  },
  {
   "cell_type": "code",
   "execution_count": 3,
   "id": "60a61acf-5aef-4c07-96d0-51d237e6f1a7",
   "metadata": {},
   "outputs": [
    {
     "name": "stdout",
     "output_type": "stream",
     "text": [
      "CPU times: total: 78.1 ms\n",
      "Wall time: 141 ms\n"
     ]
    }
   ],
   "source": [
    "%%time\n",
    "## Load full trip data\n",
    "data_full = dd.read_csv(\"data/Trips_Full Data.csv\", assume_missing=True)\n",
    "#load trip data by distance\n",
    "data_dist = dd.read_csv(\"data/Trips_by_Distance.csv\", assume_missing=True, dtype={'County Name': 'object', 'State Postal Code': 'object'})"
   ]
  },
  {
   "cell_type": "code",
   "execution_count": 4,
   "id": "9010c634-1152-4bb6-b1c3-d0adb987b457",
   "metadata": {},
   "outputs": [],
   "source": [
    "# Check for missing values\n",
    "missing_full = data_full.isnull().sum().compute()\n",
    "missing_dist = data_dist.isnull().sum().compute()"
   ]
  },
  {
   "cell_type": "code",
   "execution_count": 5,
   "id": "1ab8688c-b3eb-46cc-a57c-c4d313a11d29",
   "metadata": {},
   "outputs": [
    {
     "name": "stdout",
     "output_type": "stream",
     "text": [
      "Missing values in full trip data:\n",
      "Month of Date                 0\n",
      "Week of Date                  0\n",
      "Year of Date                  0\n",
      "Level                         0\n",
      "Date                          0\n",
      "Week Ending Date              0\n",
      "Trips <1 Mile                 0\n",
      "People Not Staying at Home    0\n",
      "Population Staying at Home    0\n",
      "Trips                         0\n",
      "Trips 1-25 Miles              0\n",
      "Trips 1-3 Miles               0\n",
      "Trips 10-25 Miles             0\n",
      "Trips 100-250 Miles           0\n",
      "Trips 100+ Miles              0\n",
      "Trips 25-100 Miles            0\n",
      "Trips 25-50 Miles             0\n",
      "Trips 250-500 Miles           0\n",
      "Trips 3-5 Miles               0\n",
      "Trips 5-10 Miles              0\n",
      "Trips 50-100 Miles            0\n",
      "Trips 500+ Miles              0\n",
      "dtype: int64\n",
      "\n",
      "Missing values in trip data by distance:\n",
      "Level                                 0\n",
      "Date                                  0\n",
      "State FIPS                          901\n",
      "State Postal Code                   901\n",
      "County FIPS                       46852\n",
      "County Name                       46852\n",
      "Population Staying at Home        12950\n",
      "Population Not Staying at Home    12950\n",
      "Number of Trips                   12950\n",
      "Number of Trips <1                12950\n",
      "Number of Trips 1-3               12950\n",
      "Number of Trips 3-5               12950\n",
      "Number of Trips 5-10              12950\n",
      "Number of Trips 10-25             12950\n",
      "Number of Trips 25-50             12950\n",
      "Number of Trips 50-100            12950\n",
      "Number of Trips 100-250           12950\n",
      "Number of Trips 250-500           12950\n",
      "Number of Trips >=500             12950\n",
      "Row ID                                0\n",
      "Week                                  0\n",
      "Month                                 0\n",
      "dtype: int64\n"
     ]
    }
   ],
   "source": [
    "#number missing values per variable\n",
    "print(\"Missing values in full trip data:\")\n",
    "print(missing_full)\n",
    "\n",
    "print(\"\\nMissing values in trip data by distance:\")\n",
    "print(missing_dist)"
   ]
  },
  {
   "cell_type": "code",
   "execution_count": 6,
   "id": "81b97c74-dbff-4b81-ad17-cb3a3caf058f",
   "metadata": {},
   "outputs": [
    {
     "name": "stdout",
     "output_type": "stream",
     "text": [
      "CPU times: total: 4.06 s\n",
      "Wall time: 8.75 s\n"
     ]
    }
   ],
   "source": [
    "%%time\n",
    "# Drop columns with more than 50% missing entries\n",
    "threshold = 0.5\n",
    "columns_to_drop_full = missing_full[missing_full > threshold * len(data_full)].index\n",
    "columns_to_drop_dist = missing_dist[missing_dist > threshold * len(data_dist)].index\n",
    "\n",
    "data_full = data_full.drop(columns=columns_to_drop_full)\n",
    "data_dist = data_dist.drop(columns=columns_to_drop_dist)"
   ]
  },
  {
   "cell_type": "code",
   "execution_count": 7,
   "id": "fc3a7733-57fd-40ea-89f5-f7b37ad99615",
   "metadata": {},
   "outputs": [],
   "source": [
    "# Drop rows with missing data\n",
    "data_full = data_full.dropna().reset_index()\n",
    "data_dist = data_dist.dropna().reset_index()"
   ]
  },
  {
   "cell_type": "code",
   "execution_count": 8,
   "id": "15f7eb97-70ce-492f-afd3-f3db86b7df2d",
   "metadata": {},
   "outputs": [
    {
     "name": "stdout",
     "output_type": "stream",
     "text": [
      "\n",
      "Info after dropping columns and rows:\n",
      "Full trip data:\n",
      "<class 'pandas.core.frame.DataFrame'>\n",
      "RangeIndex: 7 entries, 0 to 6\n",
      "Data columns (total 23 columns):\n",
      " #   Column                      Non-Null Count  Dtype  \n",
      "---  ------                      --------------  -----  \n",
      " 0   index                       7 non-null      int64  \n",
      " 1   Month of Date               7 non-null      string \n",
      " 2   Week of Date                7 non-null      string \n",
      " 3   Year of Date                7 non-null      float64\n",
      " 4   Level                       7 non-null      string \n",
      " 5   Date                        7 non-null      string \n",
      " 6   Week Ending Date            7 non-null      string \n",
      " 7   Trips <1 Mile               7 non-null      float64\n",
      " 8   People Not Staying at Home  7 non-null      float64\n",
      " 9   Population Staying at Home  7 non-null      float64\n",
      " 10  Trips                       7 non-null      float64\n",
      " 11  Trips 1-25 Miles            7 non-null      float64\n",
      " 12  Trips 1-3 Miles             7 non-null      float64\n",
      " 13  Trips 10-25 Miles           7 non-null      float64\n",
      " 14  Trips 100-250 Miles         7 non-null      float64\n",
      " 15  Trips 100+ Miles            7 non-null      float64\n",
      " 16  Trips 25-100 Miles          7 non-null      float64\n",
      " 17  Trips 25-50 Miles           7 non-null      float64\n",
      " 18  Trips 250-500 Miles         7 non-null      float64\n",
      " 19  Trips 3-5 Miles             7 non-null      float64\n",
      " 20  Trips 5-10 Miles            7 non-null      float64\n",
      " 21  Trips 50-100 Miles          7 non-null      float64\n",
      " 22  Trips 500+ Miles            7 non-null      float64\n",
      "dtypes: float64(17), int64(1), string(5)\n",
      "memory usage: 1.7 KB\n",
      "None\n",
      "\n",
      "Trip data by distance:\n",
      "<class 'pandas.core.frame.DataFrame'>\n",
      "Index: 988773 entries, 0 to 515015\n",
      "Data columns (total 23 columns):\n",
      " #   Column                          Non-Null Count   Dtype  \n",
      "---  ------                          --------------   -----  \n",
      " 0   index                           988773 non-null  int64  \n",
      " 1   Level                           988773 non-null  string \n",
      " 2   Date                            988773 non-null  string \n",
      " 3   State FIPS                      988773 non-null  float64\n",
      " 4   State Postal Code               988773 non-null  string \n",
      " 5   County FIPS                     988773 non-null  float64\n",
      " 6   County Name                     988773 non-null  string \n",
      " 7   Population Staying at Home      988773 non-null  float64\n",
      " 8   Population Not Staying at Home  988773 non-null  float64\n",
      " 9   Number of Trips                 988773 non-null  float64\n",
      " 10  Number of Trips <1              988773 non-null  float64\n",
      " 11  Number of Trips 1-3             988773 non-null  float64\n",
      " 12  Number of Trips 3-5             988773 non-null  float64\n",
      " 13  Number of Trips 5-10            988773 non-null  float64\n",
      " 14  Number of Trips 10-25           988773 non-null  float64\n",
      " 15  Number of Trips 25-50           988773 non-null  float64\n",
      " 16  Number of Trips 50-100          988773 non-null  float64\n",
      " 17  Number of Trips 100-250         988773 non-null  float64\n",
      " 18  Number of Trips 250-500         988773 non-null  float64\n",
      " 19  Number of Trips >=500           988773 non-null  float64\n",
      " 20  Row ID                          988773 non-null  string \n",
      " 21  Week                            988773 non-null  float64\n",
      " 22  Month                           988773 non-null  float64\n",
      "dtypes: float64(17), int64(1), string(5)\n",
      "memory usage: 226.7 MB\n",
      "None\n",
      "CPU times: total: 5.55 s\n",
      "Wall time: 10 s\n"
     ]
    }
   ],
   "source": [
    "%%time\n",
    "# Display info after dropping columns and rows\n",
    "print(\"\\nInfo after dropping columns and rows:\")\n",
    "print(\"Full trip data:\")\n",
    "print(data_full.compute().info())\n",
    "\n",
    "print(\"\\nTrip data by distance:\")\n",
    "print(data_dist.compute().info())"
   ]
  },
  {
   "cell_type": "markdown",
   "id": "bc4f14aa-e75a-476d-8121-bc2b09c91e10",
   "metadata": {},
   "source": [
    "##### Check if there are any outliers"
   ]
  },
  {
   "cell_type": "code",
   "execution_count": null,
   "id": "ed0a421b-9742-4852-a96f-584e1540a38b",
   "metadata": {},
   "outputs": [],
   "source": [
    "fig = px.box(data_dist.compute(), y='Population Staying at Home', title='Box Plot of Trips')\n",
    "\n",
    "# Update layout for better visualization\n",
    "fig.update_layout(yaxis_title='Trips', boxmode='group')\n",
    "# display figure\n",
    "fig.update_layout(height=600, width=1200)\n",
    "# Display the figure\n",
    "fig.show()"
   ]
  },
  {
   "cell_type": "markdown",
   "id": "f5d54f7c-c024-435e-ae73-ef092a1962b7",
   "metadata": {},
   "source": [
    "There are some outliers in the data. To handle outleirs, we will apply winsorization (https://www.geeksforgeeks.org/winsorization/)"
   ]
  },
  {
   "cell_type": "markdown",
   "id": "e9d66ed1-8cee-46c5-92ef-42150b1cbe90",
   "metadata": {},
   "source": [
    "#### 1A - Data Aggregation (People staying at home)"
   ]
  },
  {
   "cell_type": "code",
   "execution_count": 10,
   "id": "521ec95a-db6d-43b2-85d9-b2319d80fdcd",
   "metadata": {},
   "outputs": [
    {
     "name": "stdout",
     "output_type": "stream",
     "text": [
      "Results with sequential processing:\n"
     ]
    },
    {
     "data": {
      "text/plain": [
       "Week\n",
       "0.0     20976.79\n",
       "1.0     20071.31\n",
       "2.0     19897.34\n",
       "3.0     19889.44\n",
       "4.0     20096.31\n",
       "5.0     19757.43\n",
       "6.0     19599.07\n",
       "7.0     20033.60\n",
       "8.0     19741.67\n",
       "9.0     20043.10\n",
       "10.0    19826.90\n",
       "11.0    20264.39\n",
       "12.0    20632.23\n",
       "13.0    20792.38\n",
       "14.0    21064.02\n",
       "15.0    21375.30\n",
       "16.0    20066.29\n",
       "17.0    19666.74\n",
       "18.0    20020.24\n",
       "19.0    19679.55\n",
       "20.0    19881.39\n",
       "21.0    20060.82\n",
       "22.0    19897.75\n",
       "23.0    20503.63\n",
       "24.0    20571.77\n",
       "25.0    20088.39\n",
       "26.0    20823.99\n",
       "27.0    20249.93\n",
       "28.0    20038.48\n",
       "29.0    20758.97\n",
       "30.0    20662.34\n",
       "31.0    20285.02\n",
       "32.0    19052.69\n",
       "33.0    18745.05\n",
       "34.0    18890.03\n",
       "35.0    20627.34\n",
       "36.0    19918.28\n",
       "37.0    20077.21\n",
       "38.0    20648.27\n",
       "39.0    21323.44\n",
       "40.0    21132.91\n",
       "41.0    21656.94\n",
       "42.0    21958.42\n",
       "43.0    21998.57\n",
       "44.0     7465.21\n",
       "Name: Population Staying at Home, dtype: float64"
      ]
     },
     "metadata": {},
     "output_type": "display_data"
    },
    {
     "name": "stdout",
     "output_type": "stream",
     "text": [
      "Total Time: 39.29 seconds\n",
      "Read Time: 39.21 seconds\n",
      "Groupby Time: 0.08 seconds\n",
      "Results with 10 processors:\n",
      "\n",
      "Results with 10 processors:\n"
     ]
    },
    {
     "data": {
      "text/plain": [
       "Week\n",
       "0.0     20976.79\n",
       "1.0     20071.31\n",
       "2.0     19897.34\n",
       "3.0     19889.44\n",
       "4.0     20096.31\n",
       "5.0     19757.43\n",
       "6.0     19599.07\n",
       "7.0     20033.60\n",
       "8.0     19741.67\n",
       "9.0     20043.10\n",
       "10.0    19826.90\n",
       "11.0    20264.39\n",
       "12.0    20632.23\n",
       "13.0    20792.38\n",
       "14.0    21064.02\n",
       "15.0    21375.30\n",
       "16.0    20066.29\n",
       "17.0    19666.74\n",
       "18.0    20020.24\n",
       "19.0    19679.55\n",
       "20.0    19881.39\n",
       "21.0    20060.82\n",
       "22.0    19897.75\n",
       "23.0    20503.63\n",
       "24.0    20571.77\n",
       "25.0    20088.39\n",
       "26.0    20823.99\n",
       "27.0    20249.93\n",
       "28.0    20038.48\n",
       "29.0    20758.97\n",
       "30.0    20662.34\n",
       "31.0    20285.02\n",
       "32.0    19052.69\n",
       "33.0    18745.05\n",
       "34.0    18890.03\n",
       "35.0    20627.34\n",
       "36.0    19918.28\n",
       "37.0    20077.21\n",
       "38.0    20648.27\n",
       "39.0    21323.44\n",
       "40.0    21132.91\n",
       "41.0    21656.94\n",
       "42.0    21958.42\n",
       "43.0    21998.57\n",
       "44.0     7465.21\n",
       "Name: Population Staying at Home, dtype: float64"
      ]
     },
     "metadata": {},
     "output_type": "display_data"
    },
    {
     "name": "stdout",
     "output_type": "stream",
     "text": [
      "Total Time: 52.900000000000006 seconds\n",
      "Read Time: 52.84 seconds\n",
      "Groupby Time: 0.06 seconds\n",
      "\n",
      "Results with 20 processors:\n"
     ]
    },
    {
     "data": {
      "text/plain": [
       "Week\n",
       "0.0     20976.79\n",
       "1.0     20071.31\n",
       "2.0     19897.34\n",
       "3.0     19889.44\n",
       "4.0     20096.31\n",
       "5.0     19757.43\n",
       "6.0     19599.07\n",
       "7.0     20033.60\n",
       "8.0     19741.67\n",
       "9.0     20043.10\n",
       "10.0    19826.90\n",
       "11.0    20264.39\n",
       "12.0    20632.23\n",
       "13.0    20792.38\n",
       "14.0    21064.02\n",
       "15.0    21375.30\n",
       "16.0    20066.29\n",
       "17.0    19666.74\n",
       "18.0    20020.24\n",
       "19.0    19679.55\n",
       "20.0    19881.39\n",
       "21.0    20060.82\n",
       "22.0    19897.75\n",
       "23.0    20503.63\n",
       "24.0    20571.77\n",
       "25.0    20088.39\n",
       "26.0    20823.99\n",
       "27.0    20249.93\n",
       "28.0    20038.48\n",
       "29.0    20758.97\n",
       "30.0    20662.34\n",
       "31.0    20285.02\n",
       "32.0    19052.69\n",
       "33.0    18745.05\n",
       "34.0    18890.03\n",
       "35.0    20627.34\n",
       "36.0    19918.28\n",
       "37.0    20077.21\n",
       "38.0    20648.27\n",
       "39.0    21323.44\n",
       "40.0    21132.91\n",
       "41.0    21656.94\n",
       "42.0    21958.42\n",
       "43.0    21998.57\n",
       "44.0     7465.21\n",
       "Name: Population Staying at Home, dtype: float64"
      ]
     },
     "metadata": {},
     "output_type": "display_data"
    },
    {
     "name": "stdout",
     "output_type": "stream",
     "text": [
      "Total Time: 51.82 seconds\n",
      "Read Time: 51.77 seconds\n",
      "Groupby Time: 0.05 seconds\n"
     ]
    }
   ],
   "source": [
    "def process_data_dask(file_path, num_workers):\n",
    "    # Set the Dask scheduler and number of workers\n",
    "    dask.config.set(scheduler='processes', num_workers=num_workers)\n",
    "\n",
    "    # Read CSV file into a Dask DataFrame\n",
    "    start = time()\n",
    "    air = dd.read_csv(file_path, assume_missing=True, dtype={'County Name': 'object', 'State Postal Code': 'object'})\n",
    "    #process the data\n",
    "    # Drop columns with more than 50% missing entries\n",
    "    missing = air.isnull().sum().compute()\n",
    "    threshold = 0.5\n",
    "    columns_to_drop = missing[missing > threshold * len(air)].index\n",
    "    \n",
    "    air = air.drop(columns=columns_to_drop)\n",
    "    air = air.dropna().reset_index().compute()\n",
    "    # Winsorize outliers for numeric columns\n",
    "    numeric_columns = air.select_dtypes(include='number').columns\n",
    "    #air[numeric_columns] = air[numeric_columns].map(winsorize, axis=0)\n",
    "\n",
    "    # Drop rows with missing values after winsorization\n",
    "    air = air.dropna().reset_index(drop=True)\n",
    "    read_time = round(time() - start, 2)\n",
    "\n",
    "    # Perform groupby and compute mean\n",
    "    start = time()\n",
    "    by_week = air.groupby('Week')['Population Staying at Home'].mean()\n",
    "    result = round(by_week, 2)\n",
    "    groupby_time = round(time() - start, 2)\n",
    "\n",
    "    return result, read_time, groupby_time\n",
    "\n",
    "def process_data_sequential(file_path):\n",
    "    dask.config.set(scheduler='synchronous')\n",
    "    # Read CSV file into a Dask DataFrame\n",
    "    start = time()\n",
    "    air = dd.read_csv(file_path, assume_missing=True, dtype={'County Name': 'object', 'State Postal Code': 'object'})\n",
    "    #process the data\n",
    "    # Drop columns with more than 50% missing entries\n",
    "    missing = air.isnull().sum().compute()\n",
    "    threshold = 0.5\n",
    "    columns_to_drop = missing[missing > threshold * len(air)].index\n",
    "    \n",
    "    air = air.drop(columns=columns_to_drop)\n",
    "    air = air.dropna().reset_index().compute()\n",
    "    # Winsorize outliers for numeric columns\n",
    "    numeric_columns = air.select_dtypes(include='number').columns\n",
    "    #air[numeric_columns] = air[numeric_columns].map(winsorize, axis=0)\n",
    "\n",
    "    # Drop rows with missing values after winsorization\n",
    "    air = air.dropna().reset_index(drop=True)\n",
    "    read_time = round(time() - start, 2)\n",
    "\n",
    "    # Perform groupby and compute mean\n",
    "    start = time()\n",
    "    by_week = air.groupby('Week')['Population Staying at Home'].mean()\n",
    "    result = round(by_week, 2)\n",
    "    groupby_time = round(time() - start, 2)\n",
    "\n",
    "    return result, read_time, groupby_time\n",
    "\n",
    "def main_dask():\n",
    "    file_path = \"data/Trips_by_Distance.csv\"\n",
    "    # Process data sequentially using Dask\n",
    "    result_seq, read_time_seq, groupby_time_seq = process_data_sequential(file_path)\n",
    "    total_time_seq_1a = read_time_seq + groupby_time_seq\n",
    "    print(\"Results with sequential processing:\")\n",
    "    display(result_seq)\n",
    "    print(\"Total Time: {} seconds\".format(total_time_seq_1a))\n",
    "    print(\"Read Time: {} seconds\".format(read_time_seq))\n",
    "    print(\"Groupby Time: {} seconds\".format(groupby_time_seq))\n",
    "    print(\"Results with 10 processors:\")\n",
    "    # Process data using Dask with 10 processors\n",
    "    result_10, read_time_10, groupby_time_10 = process_data_dask(file_path, num_workers=10)\n",
    "    total_time_dask_10_1a = read_time_10 + groupby_time_10\n",
    "\n",
    "    print(\"\\nResults with 10 processors:\")\n",
    "    display(result_10)\n",
    "    print(\"Total Time: {} seconds\".format(total_time_dask_10_1a))\n",
    "    print(\"Read Time: {} seconds\".format(read_time_10))\n",
    "    print(\"Groupby Time: {} seconds\".format(groupby_time_10))\n",
    "\n",
    "    # Process data using Dask with 20 processors\n",
    "    result_20, read_time_20, groupby_time_20 = process_data_dask(file_path, num_workers=20)\n",
    "    total_time_dask_20_1a = read_time_20 + groupby_time_20\n",
    "\n",
    "    print(\"\\nResults with 20 processors:\")\n",
    "    display(result_20)\n",
    "    print(\"Total Time: {} seconds\".format(total_time_dask_20_1a))\n",
    "    print(\"Read Time: {} seconds\".format(read_time_20))\n",
    "    print(\"Groupby Time: {} seconds\".format(groupby_time_20))\n",
    "    #return one aggregation result for visualization\n",
    "    return result_20, total_time_dask_10_1a, total_time_dask_20_1a, total_time_seq_1a\n",
    "\n",
    "if __name__ == '__main__':\n",
    "    results, total_time_dask_10_1a, total_time_dask_20_1a, total_time_seq_1a = main_dask()"
   ]
  },
  {
   "cell_type": "code",
   "execution_count": null,
   "id": "956aef71-644f-4f22-bf58-07d47ad985e6",
   "metadata": {},
   "outputs": [],
   "source": [
    "fig = px.line(pd.DataFrame(results).reset_index(), x='Week', y='Population Staying at Home', title='Average Number of People by Week')\n",
    "#layout for better visualization\n",
    "fig.update_layout(xaxis_title='Week', yaxis_title='Average Number of People Staying at Home by Week')\n",
    "# figure\n",
    "fig.update_layout(height=600, width=1200)\n",
    "#line color\n",
    "fig.update_traces(line=dict(color='steelblue'))\n",
    "fig.show()"
   ]
  },
  {
   "cell_type": "markdown",
   "id": "af210d52-2eb9-481f-9427-21332f444d05",
   "metadata": {},
   "source": [
    "#### 1B - Data Aggregation (How far people travel)"
   ]
  },
  {
   "cell_type": "code",
   "execution_count": 12,
   "id": "2adafb9b-0c94-4cfc-9bff-0f27be01214a",
   "metadata": {},
   "outputs": [
    {
     "name": "stdout",
     "output_type": "stream",
     "text": [
      "Results with sequential processing:\n"
     ]
    },
    {
     "data": {
      "text/html": [
       "<div>\n",
       "<style scoped>\n",
       "    .dataframe tbody tr th:only-of-type {\n",
       "        vertical-align: middle;\n",
       "    }\n",
       "\n",
       "    .dataframe tbody tr th {\n",
       "        vertical-align: top;\n",
       "    }\n",
       "\n",
       "    .dataframe thead th {\n",
       "        text-align: right;\n",
       "    }\n",
       "</style>\n",
       "<table border=\"1\" class=\"dataframe\">\n",
       "  <thead>\n",
       "    <tr style=\"text-align: right;\">\n",
       "      <th></th>\n",
       "      <th>Trips 1-25 Miles</th>\n",
       "      <th>Trips 1-3 Miles</th>\n",
       "      <th>Trips 10-25 Miles</th>\n",
       "      <th>Trips 100-250 Miles</th>\n",
       "      <th>Trips 100+ Miles</th>\n",
       "      <th>Trips 25-100 Miles</th>\n",
       "      <th>Trips 25-50 Miles</th>\n",
       "      <th>Trips 250-500 Miles</th>\n",
       "      <th>Trips 3-5 Miles</th>\n",
       "      <th>Trips 5-10 Miles</th>\n",
       "      <th>Trips 50-100 Miles</th>\n",
       "      <th>Trips 500+ Miles</th>\n",
       "    </tr>\n",
       "    <tr>\n",
       "      <th>Week</th>\n",
       "      <th></th>\n",
       "      <th></th>\n",
       "      <th></th>\n",
       "      <th></th>\n",
       "      <th></th>\n",
       "      <th></th>\n",
       "      <th></th>\n",
       "      <th></th>\n",
       "      <th></th>\n",
       "      <th></th>\n",
       "      <th></th>\n",
       "      <th></th>\n",
       "    </tr>\n",
       "  </thead>\n",
       "  <tbody>\n",
       "    <tr>\n",
       "      <th>32</th>\n",
       "      <td>1.015555e+09</td>\n",
       "      <td>369476657.0</td>\n",
       "      <td>231078511.0</td>\n",
       "      <td>6850130.0</td>\n",
       "      <td>12122473.0</td>\n",
       "      <td>88037455.0</td>\n",
       "      <td>69159131.0</td>\n",
       "      <td>1829242.0</td>\n",
       "      <td>181555834.0</td>\n",
       "      <td>233444464.0</td>\n",
       "      <td>18878323.0</td>\n",
       "      <td>3443101.0</td>\n",
       "    </tr>\n",
       "  </tbody>\n",
       "</table>\n",
       "</div>"
      ],
      "text/plain": [
       "      Trips 1-25 Miles  Trips 1-3 Miles  Trips 10-25 Miles  \\\n",
       "Week                                                         \n",
       "32        1.015555e+09      369476657.0        231078511.0   \n",
       "\n",
       "      Trips 100-250 Miles  Trips 100+ Miles  Trips 25-100 Miles  \\\n",
       "Week                                                              \n",
       "32              6850130.0        12122473.0          88037455.0   \n",
       "\n",
       "      Trips 25-50 Miles  Trips 250-500 Miles  Trips 3-5 Miles  \\\n",
       "Week                                                            \n",
       "32           69159131.0            1829242.0      181555834.0   \n",
       "\n",
       "      Trips 5-10 Miles  Trips 50-100 Miles  Trips 500+ Miles  \n",
       "Week                                                          \n",
       "32         233444464.0          18878323.0         3443101.0  "
      ]
     },
     "metadata": {},
     "output_type": "display_data"
    },
    {
     "name": "stdout",
     "output_type": "stream",
     "text": [
      "Total Time: 11.28 seconds\n",
      "Read Time: 11.04 seconds\n",
      "Groupby Time: 0.24 seconds\n",
      "\n",
      "Results with Dask processing (10 processors):\n"
     ]
    },
    {
     "data": {
      "text/html": [
       "<div>\n",
       "<style scoped>\n",
       "    .dataframe tbody tr th:only-of-type {\n",
       "        vertical-align: middle;\n",
       "    }\n",
       "\n",
       "    .dataframe tbody tr th {\n",
       "        vertical-align: top;\n",
       "    }\n",
       "\n",
       "    .dataframe thead th {\n",
       "        text-align: right;\n",
       "    }\n",
       "</style>\n",
       "<table border=\"1\" class=\"dataframe\">\n",
       "  <thead>\n",
       "    <tr style=\"text-align: right;\">\n",
       "      <th></th>\n",
       "      <th>Trips 1-25 Miles</th>\n",
       "      <th>Trips 1-3 Miles</th>\n",
       "      <th>Trips 10-25 Miles</th>\n",
       "      <th>Trips 100-250 Miles</th>\n",
       "      <th>Trips 100+ Miles</th>\n",
       "      <th>Trips 25-100 Miles</th>\n",
       "      <th>Trips 25-50 Miles</th>\n",
       "      <th>Trips 250-500 Miles</th>\n",
       "      <th>Trips 3-5 Miles</th>\n",
       "      <th>Trips 5-10 Miles</th>\n",
       "      <th>Trips 50-100 Miles</th>\n",
       "      <th>Trips 500+ Miles</th>\n",
       "    </tr>\n",
       "    <tr>\n",
       "      <th>Week</th>\n",
       "      <th></th>\n",
       "      <th></th>\n",
       "      <th></th>\n",
       "      <th></th>\n",
       "      <th></th>\n",
       "      <th></th>\n",
       "      <th></th>\n",
       "      <th></th>\n",
       "      <th></th>\n",
       "      <th></th>\n",
       "      <th></th>\n",
       "      <th></th>\n",
       "    </tr>\n",
       "  </thead>\n",
       "  <tbody>\n",
       "    <tr>\n",
       "      <th>32</th>\n",
       "      <td>1.015555e+09</td>\n",
       "      <td>369476657.0</td>\n",
       "      <td>231078511.0</td>\n",
       "      <td>6850130.0</td>\n",
       "      <td>12122473.0</td>\n",
       "      <td>88037455.0</td>\n",
       "      <td>69159131.0</td>\n",
       "      <td>1829242.0</td>\n",
       "      <td>181555834.0</td>\n",
       "      <td>233444464.0</td>\n",
       "      <td>18878323.0</td>\n",
       "      <td>3443101.0</td>\n",
       "    </tr>\n",
       "  </tbody>\n",
       "</table>\n",
       "</div>"
      ],
      "text/plain": [
       "      Trips 1-25 Miles  Trips 1-3 Miles  Trips 10-25 Miles  \\\n",
       "Week                                                         \n",
       "32        1.015555e+09      369476657.0        231078511.0   \n",
       "\n",
       "      Trips 100-250 Miles  Trips 100+ Miles  Trips 25-100 Miles  \\\n",
       "Week                                                              \n",
       "32              6850130.0        12122473.0          88037455.0   \n",
       "\n",
       "      Trips 25-50 Miles  Trips 250-500 Miles  Trips 3-5 Miles  \\\n",
       "Week                                                            \n",
       "32           69159131.0            1829242.0      181555834.0   \n",
       "\n",
       "      Trips 5-10 Miles  Trips 50-100 Miles  Trips 500+ Miles  \n",
       "Week                                                          \n",
       "32         233444464.0          18878323.0         3443101.0  "
      ]
     },
     "metadata": {},
     "output_type": "display_data"
    },
    {
     "name": "stdout",
     "output_type": "stream",
     "text": [
      "Total Time: 5.4 seconds\n",
      "Read Time: 0.37 seconds\n",
      "Groupby Time: 5.03 seconds\n",
      "\n",
      "Results with Dask processing (20 processors):\n"
     ]
    },
    {
     "data": {
      "text/html": [
       "<div>\n",
       "<style scoped>\n",
       "    .dataframe tbody tr th:only-of-type {\n",
       "        vertical-align: middle;\n",
       "    }\n",
       "\n",
       "    .dataframe tbody tr th {\n",
       "        vertical-align: top;\n",
       "    }\n",
       "\n",
       "    .dataframe thead th {\n",
       "        text-align: right;\n",
       "    }\n",
       "</style>\n",
       "<table border=\"1\" class=\"dataframe\">\n",
       "  <thead>\n",
       "    <tr style=\"text-align: right;\">\n",
       "      <th></th>\n",
       "      <th>Trips 1-25 Miles</th>\n",
       "      <th>Trips 1-3 Miles</th>\n",
       "      <th>Trips 10-25 Miles</th>\n",
       "      <th>Trips 100-250 Miles</th>\n",
       "      <th>Trips 100+ Miles</th>\n",
       "      <th>Trips 25-100 Miles</th>\n",
       "      <th>Trips 25-50 Miles</th>\n",
       "      <th>Trips 250-500 Miles</th>\n",
       "      <th>Trips 3-5 Miles</th>\n",
       "      <th>Trips 5-10 Miles</th>\n",
       "      <th>Trips 50-100 Miles</th>\n",
       "      <th>Trips 500+ Miles</th>\n",
       "    </tr>\n",
       "    <tr>\n",
       "      <th>Week</th>\n",
       "      <th></th>\n",
       "      <th></th>\n",
       "      <th></th>\n",
       "      <th></th>\n",
       "      <th></th>\n",
       "      <th></th>\n",
       "      <th></th>\n",
       "      <th></th>\n",
       "      <th></th>\n",
       "      <th></th>\n",
       "      <th></th>\n",
       "      <th></th>\n",
       "    </tr>\n",
       "  </thead>\n",
       "  <tbody>\n",
       "    <tr>\n",
       "      <th>32</th>\n",
       "      <td>1.015555e+09</td>\n",
       "      <td>369476657.0</td>\n",
       "      <td>231078511.0</td>\n",
       "      <td>6850130.0</td>\n",
       "      <td>12122473.0</td>\n",
       "      <td>88037455.0</td>\n",
       "      <td>69159131.0</td>\n",
       "      <td>1829242.0</td>\n",
       "      <td>181555834.0</td>\n",
       "      <td>233444464.0</td>\n",
       "      <td>18878323.0</td>\n",
       "      <td>3443101.0</td>\n",
       "    </tr>\n",
       "  </tbody>\n",
       "</table>\n",
       "</div>"
      ],
      "text/plain": [
       "      Trips 1-25 Miles  Trips 1-3 Miles  Trips 10-25 Miles  \\\n",
       "Week                                                         \n",
       "32        1.015555e+09      369476657.0        231078511.0   \n",
       "\n",
       "      Trips 100-250 Miles  Trips 100+ Miles  Trips 25-100 Miles  \\\n",
       "Week                                                              \n",
       "32              6850130.0        12122473.0          88037455.0   \n",
       "\n",
       "      Trips 25-50 Miles  Trips 250-500 Miles  Trips 3-5 Miles  \\\n",
       "Week                                                            \n",
       "32           69159131.0            1829242.0      181555834.0   \n",
       "\n",
       "      Trips 5-10 Miles  Trips 50-100 Miles  Trips 500+ Miles  \n",
       "Week                                                          \n",
       "32         233444464.0          18878323.0         3443101.0  "
      ]
     },
     "metadata": {},
     "output_type": "display_data"
    },
    {
     "name": "stdout",
     "output_type": "stream",
     "text": [
      "Total Time: 16.240000000000002 seconds\n",
      "Read Time: 10.66 seconds\n",
      "Groupby Time: 5.58 seconds\n"
     ]
    }
   ],
   "source": [
    "# Function to read the data\n",
    "def read_data(file_path):\n",
    "    start = time()\n",
    "    air = dd.read_csv(file_path, assume_missing=True , dtype={'County Name': 'object', 'State Postal Code': 'object'})\n",
    "    #process the data\n",
    "    # Drop columns with more than 50% missing entries\n",
    "    missing = air.isnull().sum().compute()\n",
    "    threshold = 0.5\n",
    "    columns_to_drop = missing[missing > threshold * len(air)].index\n",
    "    \n",
    "    air = air.drop(columns=columns_to_drop)\n",
    "    air = air.dropna().reset_index()\n",
    "    # Winsorize outliers for numeric columns\n",
    "    numeric_columns = air.select_dtypes(include='number').columns\n",
    "\n",
    "\n",
    "    # Drop rows with missing values after winsorization\n",
    "    air = air.dropna().reset_index(drop=True)\n",
    "    \n",
    "    read_time = round(time() - start, 2)\n",
    "    return air, read_time\n",
    "\n",
    "def group_week_dask(data, num_workers):\n",
    "    dask.config.set(scheduler='processes', num_workers=num_workers)\n",
    "    start = time()\n",
    "    # Extracting week numbers from 'Week Ending Date' column\n",
    "    data = data.assign(Week = lambda x: data['Week of Date'].str.extract('(\\d+)'))\n",
    "    # Group by 'Week' and calculate the mean for selected columns\n",
    "    averages = data.groupby(\"Week\")[['Trips 1-25 Miles',\n",
    "                                      'Trips 1-3 Miles', 'Trips 10-25 Miles', 'Trips 100-250 Miles',\n",
    "                                      'Trips 100+ Miles', 'Trips 25-100 Miles', 'Trips 25-50 Miles',\n",
    "                                      'Trips 250-500 Miles', 'Trips 3-5 Miles', 'Trips 5-10 Miles',\n",
    "                                      'Trips 50-100 Miles', 'Trips 500+ Miles']].mean()\n",
    "    result = averages.compute()\n",
    "    groupby_time = round(time() - start, 2)\n",
    "    return result, groupby_time\n",
    "\n",
    "\n",
    "\n",
    "\n",
    "def group_week_dask_sequential(data):\n",
    "    dask.config.set(scheduler='synchronous')\n",
    "    start = time()\n",
    "    # Extracting week numbers from 'Week Ending Date' column\n",
    "    data = data.assign(Week = lambda x: data['Week of Date'].str.extract('(\\d+)'))\n",
    "    # Group by 'Week' and calculate the mean for selected columns\n",
    "    averages = data.groupby(\"Week\")[['Trips 1-25 Miles',\n",
    "                                      'Trips 1-3 Miles', 'Trips 10-25 Miles', 'Trips 100-250 Miles',\n",
    "                                      'Trips 100+ Miles', 'Trips 25-100 Miles', 'Trips 25-50 Miles',\n",
    "                                      'Trips 250-500 Miles', 'Trips 3-5 Miles', 'Trips 5-10 Miles',\n",
    "                                      'Trips 50-100 Miles', 'Trips 500+ Miles']].mean()\n",
    "    result = averages.compute()\n",
    "    groupby_time = round(time() - start, 2)\n",
    "    return result, groupby_time\n",
    "\n",
    "def compare_performance(file_path):\n",
    "    # Read data sequentially\n",
    "    air_seq, read_time_seq = read_data(file_path)\n",
    "    result_seq, groupby_time_seq = group_week_dask_sequential(air_seq)\n",
    "    total_time_seq_1b = read_time_seq + groupby_time_seq\n",
    "\n",
    "    print(\"Results with sequential processing:\")\n",
    "    display(round(result_seq))\n",
    "    print(\"Total Time: {} seconds\".format(total_time_seq_1b))\n",
    "    print(\"Read Time: {} seconds\".format(read_time_seq))\n",
    "    print(\"Groupby Time: {} seconds\".format(groupby_time_seq))\n",
    "\n",
    "    # Read data using Dask with 10 processors\n",
    "    air_dask_10, read_time_dask_10 = read_data(file_path)\n",
    "    result_dask_10, groupby_time_dask_10 = group_week_dask(air_dask_10, num_workers=10)\n",
    "    total_time_dask_10 = read_time_dask_10 + groupby_time_dask_10\n",
    "\n",
    "    print(\"\\nResults with Dask processing (10 processors):\")\n",
    "    display(round(result_dask_10))\n",
    "    print(\"Total Time: {} seconds\".format(total_time_dask_10))\n",
    "    print(\"Read Time: {} seconds\".format(read_time_dask_10))\n",
    "    print(\"Groupby Time: {} seconds\".format(groupby_time_dask_10))\n",
    "\n",
    "    # Read data using Dask with 20 processors\n",
    "    air_dask_20, read_time_dask_20 = read_data(file_path)\n",
    "    result_dask_20, groupby_time_dask_20 = group_week_dask(air_dask_20, num_workers=20)\n",
    "    total_time_dask_20 = read_time_dask_20 + groupby_time_dask_20\n",
    "\n",
    "    print(\"\\nResults with Dask processing (20 processors):\")\n",
    "    display(round(result_dask_20))\n",
    "    print(\"Total Time: {} seconds\".format(total_time_dask_20))\n",
    "    print(\"Read Time: {} seconds\".format(read_time_dask_20))\n",
    "    print(\"Groupby Time: {} seconds\".format(groupby_time_dask_20))\n",
    "    #return dataframe for visualization\n",
    "    return result_dask_20, total_time_dask_10, total_time_dask_20, total_time_seq_1b\n",
    "\n",
    "if __name__ == '__main__':\n",
    "    file_path = \"data/Trips_Full Data.csv\"\n",
    "    results_1b, total_time_dask_10, total_time_dask_20, total_time_seq_1b = compare_performance(file_path)"
   ]
  },
  {
   "cell_type": "code",
   "execution_count": 14,
   "id": "f57d38be-fb38-4e66-82cf-94ef25b3880d",
   "metadata": {},
   "outputs": [
    {
     "data": {
      "application/vnd.plotly.v1+json": {
       "config": {
        "plotlyServerURL": "https://plot.ly"
       },
       "data": [
        {
         "alignmentgroup": "True",
         "hovertemplate": "Trip=%{x}<br>Average Trips=%{y}<extra></extra>",
         "legendgroup": "Trips 1-25 Miles",
         "marker": {
          "color": "#636efa",
          "pattern": {
           "shape": ""
          }
         },
         "name": "Trips 1-25 Miles",
         "offsetgroup": "Trips 1-25 Miles",
         "orientation": "v",
         "showlegend": true,
         "textposition": "auto",
         "type": "bar",
         "x": [
          "Trips 1-25 Miles"
         ],
         "xaxis": "x",
         "y": [
          1015555465.2857143
         ],
         "yaxis": "y"
        },
        {
         "alignmentgroup": "True",
         "hovertemplate": "Trip=%{x}<br>Average Trips=%{y}<extra></extra>",
         "legendgroup": "Trips 1-3 Miles",
         "marker": {
          "color": "#EF553B",
          "pattern": {
           "shape": ""
          }
         },
         "name": "Trips 1-3 Miles",
         "offsetgroup": "Trips 1-3 Miles",
         "orientation": "v",
         "showlegend": true,
         "textposition": "auto",
         "type": "bar",
         "x": [
          "Trips 1-3 Miles"
         ],
         "xaxis": "x",
         "y": [
          369476656.71428573
         ],
         "yaxis": "y"
        },
        {
         "alignmentgroup": "True",
         "hovertemplate": "Trip=%{x}<br>Average Trips=%{y}<extra></extra>",
         "legendgroup": "Trips 10-25 Miles",
         "marker": {
          "color": "#00cc96",
          "pattern": {
           "shape": ""
          }
         },
         "name": "Trips 10-25 Miles",
         "offsetgroup": "Trips 10-25 Miles",
         "orientation": "v",
         "showlegend": true,
         "textposition": "auto",
         "type": "bar",
         "x": [
          "Trips 10-25 Miles"
         ],
         "xaxis": "x",
         "y": [
          231078511
         ],
         "yaxis": "y"
        },
        {
         "alignmentgroup": "True",
         "hovertemplate": "Trip=%{x}<br>Average Trips=%{y}<extra></extra>",
         "legendgroup": "Trips 100-250 Miles",
         "marker": {
          "color": "#ab63fa",
          "pattern": {
           "shape": ""
          }
         },
         "name": "Trips 100-250 Miles",
         "offsetgroup": "Trips 100-250 Miles",
         "orientation": "v",
         "showlegend": true,
         "textposition": "auto",
         "type": "bar",
         "x": [
          "Trips 100-250 Miles"
         ],
         "xaxis": "x",
         "y": [
          6850130
         ],
         "yaxis": "y"
        },
        {
         "alignmentgroup": "True",
         "hovertemplate": "Trip=%{x}<br>Average Trips=%{y}<extra></extra>",
         "legendgroup": "Trips 100+ Miles",
         "marker": {
          "color": "#FFA15A",
          "pattern": {
           "shape": ""
          }
         },
         "name": "Trips 100+ Miles",
         "offsetgroup": "Trips 100+ Miles",
         "orientation": "v",
         "showlegend": true,
         "textposition": "auto",
         "type": "bar",
         "x": [
          "Trips 100+ Miles"
         ],
         "xaxis": "x",
         "y": [
          12122473.142857144
         ],
         "yaxis": "y"
        },
        {
         "alignmentgroup": "True",
         "hovertemplate": "Trip=%{x}<br>Average Trips=%{y}<extra></extra>",
         "legendgroup": "Trips 25-100 Miles",
         "marker": {
          "color": "#19d3f3",
          "pattern": {
           "shape": ""
          }
         },
         "name": "Trips 25-100 Miles",
         "offsetgroup": "Trips 25-100 Miles",
         "orientation": "v",
         "showlegend": true,
         "textposition": "auto",
         "type": "bar",
         "x": [
          "Trips 25-100 Miles"
         ],
         "xaxis": "x",
         "y": [
          88037454.71428572
         ],
         "yaxis": "y"
        },
        {
         "alignmentgroup": "True",
         "hovertemplate": "Trip=%{x}<br>Average Trips=%{y}<extra></extra>",
         "legendgroup": "Trips 25-50 Miles",
         "marker": {
          "color": "#FF6692",
          "pattern": {
           "shape": ""
          }
         },
         "name": "Trips 25-50 Miles",
         "offsetgroup": "Trips 25-50 Miles",
         "orientation": "v",
         "showlegend": true,
         "textposition": "auto",
         "type": "bar",
         "x": [
          "Trips 25-50 Miles"
         ],
         "xaxis": "x",
         "y": [
          69159131.42857143
         ],
         "yaxis": "y"
        },
        {
         "alignmentgroup": "True",
         "hovertemplate": "Trip=%{x}<br>Average Trips=%{y}<extra></extra>",
         "legendgroup": "Trips 250-500 Miles",
         "marker": {
          "color": "#B6E880",
          "pattern": {
           "shape": ""
          }
         },
         "name": "Trips 250-500 Miles",
         "offsetgroup": "Trips 250-500 Miles",
         "orientation": "v",
         "showlegend": true,
         "textposition": "auto",
         "type": "bar",
         "x": [
          "Trips 250-500 Miles"
         ],
         "xaxis": "x",
         "y": [
          1829242
         ],
         "yaxis": "y"
        },
        {
         "alignmentgroup": "True",
         "hovertemplate": "Trip=%{x}<br>Average Trips=%{y}<extra></extra>",
         "legendgroup": "Trips 3-5 Miles",
         "marker": {
          "color": "#FF97FF",
          "pattern": {
           "shape": ""
          }
         },
         "name": "Trips 3-5 Miles",
         "offsetgroup": "Trips 3-5 Miles",
         "orientation": "v",
         "showlegend": true,
         "textposition": "auto",
         "type": "bar",
         "x": [
          "Trips 3-5 Miles"
         ],
         "xaxis": "x",
         "y": [
          181555833.57142857
         ],
         "yaxis": "y"
        },
        {
         "alignmentgroup": "True",
         "hovertemplate": "Trip=%{x}<br>Average Trips=%{y}<extra></extra>",
         "legendgroup": "Trips 5-10 Miles",
         "marker": {
          "color": "#FECB52",
          "pattern": {
           "shape": ""
          }
         },
         "name": "Trips 5-10 Miles",
         "offsetgroup": "Trips 5-10 Miles",
         "orientation": "v",
         "showlegend": true,
         "textposition": "auto",
         "type": "bar",
         "x": [
          "Trips 5-10 Miles"
         ],
         "xaxis": "x",
         "y": [
          233444464
         ],
         "yaxis": "y"
        },
        {
         "alignmentgroup": "True",
         "hovertemplate": "Trip=%{x}<br>Average Trips=%{y}<extra></extra>",
         "legendgroup": "Trips 50-100 Miles",
         "marker": {
          "color": "#636efa",
          "pattern": {
           "shape": ""
          }
         },
         "name": "Trips 50-100 Miles",
         "offsetgroup": "Trips 50-100 Miles",
         "orientation": "v",
         "showlegend": true,
         "textposition": "auto",
         "type": "bar",
         "x": [
          "Trips 50-100 Miles"
         ],
         "xaxis": "x",
         "y": [
          18878323.285714287
         ],
         "yaxis": "y"
        },
        {
         "alignmentgroup": "True",
         "hovertemplate": "Trip=%{x}<br>Average Trips=%{y}<extra></extra>",
         "legendgroup": "Trips 500+ Miles",
         "marker": {
          "color": "#EF553B",
          "pattern": {
           "shape": ""
          }
         },
         "name": "Trips 500+ Miles",
         "offsetgroup": "Trips 500+ Miles",
         "orientation": "v",
         "showlegend": true,
         "textposition": "auto",
         "type": "bar",
         "x": [
          "Trips 500+ Miles"
         ],
         "xaxis": "x",
         "y": [
          3443101.1428571427
         ],
         "yaxis": "y"
        }
       ],
       "layout": {
        "barmode": "relative",
        "height": 600,
        "legend": {
         "title": {
          "text": "Trip"
         },
         "tracegroupgap": 0
        },
        "template": {
         "data": {
          "bar": [
           {
            "error_x": {
             "color": "#2a3f5f"
            },
            "error_y": {
             "color": "#2a3f5f"
            },
            "marker": {
             "line": {
              "color": "#E5ECF6",
              "width": 0.5
             },
             "pattern": {
              "fillmode": "overlay",
              "size": 10,
              "solidity": 0.2
             }
            },
            "type": "bar"
           }
          ],
          "barpolar": [
           {
            "marker": {
             "line": {
              "color": "#E5ECF6",
              "width": 0.5
             },
             "pattern": {
              "fillmode": "overlay",
              "size": 10,
              "solidity": 0.2
             }
            },
            "type": "barpolar"
           }
          ],
          "carpet": [
           {
            "aaxis": {
             "endlinecolor": "#2a3f5f",
             "gridcolor": "white",
             "linecolor": "white",
             "minorgridcolor": "white",
             "startlinecolor": "#2a3f5f"
            },
            "baxis": {
             "endlinecolor": "#2a3f5f",
             "gridcolor": "white",
             "linecolor": "white",
             "minorgridcolor": "white",
             "startlinecolor": "#2a3f5f"
            },
            "type": "carpet"
           }
          ],
          "choropleth": [
           {
            "colorbar": {
             "outlinewidth": 0,
             "ticks": ""
            },
            "type": "choropleth"
           }
          ],
          "contour": [
           {
            "colorbar": {
             "outlinewidth": 0,
             "ticks": ""
            },
            "colorscale": [
             [
              0,
              "#0d0887"
             ],
             [
              0.1111111111111111,
              "#46039f"
             ],
             [
              0.2222222222222222,
              "#7201a8"
             ],
             [
              0.3333333333333333,
              "#9c179e"
             ],
             [
              0.4444444444444444,
              "#bd3786"
             ],
             [
              0.5555555555555556,
              "#d8576b"
             ],
             [
              0.6666666666666666,
              "#ed7953"
             ],
             [
              0.7777777777777778,
              "#fb9f3a"
             ],
             [
              0.8888888888888888,
              "#fdca26"
             ],
             [
              1,
              "#f0f921"
             ]
            ],
            "type": "contour"
           }
          ],
          "contourcarpet": [
           {
            "colorbar": {
             "outlinewidth": 0,
             "ticks": ""
            },
            "type": "contourcarpet"
           }
          ],
          "heatmap": [
           {
            "colorbar": {
             "outlinewidth": 0,
             "ticks": ""
            },
            "colorscale": [
             [
              0,
              "#0d0887"
             ],
             [
              0.1111111111111111,
              "#46039f"
             ],
             [
              0.2222222222222222,
              "#7201a8"
             ],
             [
              0.3333333333333333,
              "#9c179e"
             ],
             [
              0.4444444444444444,
              "#bd3786"
             ],
             [
              0.5555555555555556,
              "#d8576b"
             ],
             [
              0.6666666666666666,
              "#ed7953"
             ],
             [
              0.7777777777777778,
              "#fb9f3a"
             ],
             [
              0.8888888888888888,
              "#fdca26"
             ],
             [
              1,
              "#f0f921"
             ]
            ],
            "type": "heatmap"
           }
          ],
          "heatmapgl": [
           {
            "colorbar": {
             "outlinewidth": 0,
             "ticks": ""
            },
            "colorscale": [
             [
              0,
              "#0d0887"
             ],
             [
              0.1111111111111111,
              "#46039f"
             ],
             [
              0.2222222222222222,
              "#7201a8"
             ],
             [
              0.3333333333333333,
              "#9c179e"
             ],
             [
              0.4444444444444444,
              "#bd3786"
             ],
             [
              0.5555555555555556,
              "#d8576b"
             ],
             [
              0.6666666666666666,
              "#ed7953"
             ],
             [
              0.7777777777777778,
              "#fb9f3a"
             ],
             [
              0.8888888888888888,
              "#fdca26"
             ],
             [
              1,
              "#f0f921"
             ]
            ],
            "type": "heatmapgl"
           }
          ],
          "histogram": [
           {
            "marker": {
             "pattern": {
              "fillmode": "overlay",
              "size": 10,
              "solidity": 0.2
             }
            },
            "type": "histogram"
           }
          ],
          "histogram2d": [
           {
            "colorbar": {
             "outlinewidth": 0,
             "ticks": ""
            },
            "colorscale": [
             [
              0,
              "#0d0887"
             ],
             [
              0.1111111111111111,
              "#46039f"
             ],
             [
              0.2222222222222222,
              "#7201a8"
             ],
             [
              0.3333333333333333,
              "#9c179e"
             ],
             [
              0.4444444444444444,
              "#bd3786"
             ],
             [
              0.5555555555555556,
              "#d8576b"
             ],
             [
              0.6666666666666666,
              "#ed7953"
             ],
             [
              0.7777777777777778,
              "#fb9f3a"
             ],
             [
              0.8888888888888888,
              "#fdca26"
             ],
             [
              1,
              "#f0f921"
             ]
            ],
            "type": "histogram2d"
           }
          ],
          "histogram2dcontour": [
           {
            "colorbar": {
             "outlinewidth": 0,
             "ticks": ""
            },
            "colorscale": [
             [
              0,
              "#0d0887"
             ],
             [
              0.1111111111111111,
              "#46039f"
             ],
             [
              0.2222222222222222,
              "#7201a8"
             ],
             [
              0.3333333333333333,
              "#9c179e"
             ],
             [
              0.4444444444444444,
              "#bd3786"
             ],
             [
              0.5555555555555556,
              "#d8576b"
             ],
             [
              0.6666666666666666,
              "#ed7953"
             ],
             [
              0.7777777777777778,
              "#fb9f3a"
             ],
             [
              0.8888888888888888,
              "#fdca26"
             ],
             [
              1,
              "#f0f921"
             ]
            ],
            "type": "histogram2dcontour"
           }
          ],
          "mesh3d": [
           {
            "colorbar": {
             "outlinewidth": 0,
             "ticks": ""
            },
            "type": "mesh3d"
           }
          ],
          "parcoords": [
           {
            "line": {
             "colorbar": {
              "outlinewidth": 0,
              "ticks": ""
             }
            },
            "type": "parcoords"
           }
          ],
          "pie": [
           {
            "automargin": true,
            "type": "pie"
           }
          ],
          "scatter": [
           {
            "fillpattern": {
             "fillmode": "overlay",
             "size": 10,
             "solidity": 0.2
            },
            "type": "scatter"
           }
          ],
          "scatter3d": [
           {
            "line": {
             "colorbar": {
              "outlinewidth": 0,
              "ticks": ""
             }
            },
            "marker": {
             "colorbar": {
              "outlinewidth": 0,
              "ticks": ""
             }
            },
            "type": "scatter3d"
           }
          ],
          "scattercarpet": [
           {
            "marker": {
             "colorbar": {
              "outlinewidth": 0,
              "ticks": ""
             }
            },
            "type": "scattercarpet"
           }
          ],
          "scattergeo": [
           {
            "marker": {
             "colorbar": {
              "outlinewidth": 0,
              "ticks": ""
             }
            },
            "type": "scattergeo"
           }
          ],
          "scattergl": [
           {
            "marker": {
             "colorbar": {
              "outlinewidth": 0,
              "ticks": ""
             }
            },
            "type": "scattergl"
           }
          ],
          "scattermapbox": [
           {
            "marker": {
             "colorbar": {
              "outlinewidth": 0,
              "ticks": ""
             }
            },
            "type": "scattermapbox"
           }
          ],
          "scatterpolar": [
           {
            "marker": {
             "colorbar": {
              "outlinewidth": 0,
              "ticks": ""
             }
            },
            "type": "scatterpolar"
           }
          ],
          "scatterpolargl": [
           {
            "marker": {
             "colorbar": {
              "outlinewidth": 0,
              "ticks": ""
             }
            },
            "type": "scatterpolargl"
           }
          ],
          "scatterternary": [
           {
            "marker": {
             "colorbar": {
              "outlinewidth": 0,
              "ticks": ""
             }
            },
            "type": "scatterternary"
           }
          ],
          "surface": [
           {
            "colorbar": {
             "outlinewidth": 0,
             "ticks": ""
            },
            "colorscale": [
             [
              0,
              "#0d0887"
             ],
             [
              0.1111111111111111,
              "#46039f"
             ],
             [
              0.2222222222222222,
              "#7201a8"
             ],
             [
              0.3333333333333333,
              "#9c179e"
             ],
             [
              0.4444444444444444,
              "#bd3786"
             ],
             [
              0.5555555555555556,
              "#d8576b"
             ],
             [
              0.6666666666666666,
              "#ed7953"
             ],
             [
              0.7777777777777778,
              "#fb9f3a"
             ],
             [
              0.8888888888888888,
              "#fdca26"
             ],
             [
              1,
              "#f0f921"
             ]
            ],
            "type": "surface"
           }
          ],
          "table": [
           {
            "cells": {
             "fill": {
              "color": "#EBF0F8"
             },
             "line": {
              "color": "white"
             }
            },
            "header": {
             "fill": {
              "color": "#C8D4E3"
             },
             "line": {
              "color": "white"
             }
            },
            "type": "table"
           }
          ]
         },
         "layout": {
          "annotationdefaults": {
           "arrowcolor": "#2a3f5f",
           "arrowhead": 0,
           "arrowwidth": 1
          },
          "autotypenumbers": "strict",
          "coloraxis": {
           "colorbar": {
            "outlinewidth": 0,
            "ticks": ""
           }
          },
          "colorscale": {
           "diverging": [
            [
             0,
             "#8e0152"
            ],
            [
             0.1,
             "#c51b7d"
            ],
            [
             0.2,
             "#de77ae"
            ],
            [
             0.3,
             "#f1b6da"
            ],
            [
             0.4,
             "#fde0ef"
            ],
            [
             0.5,
             "#f7f7f7"
            ],
            [
             0.6,
             "#e6f5d0"
            ],
            [
             0.7,
             "#b8e186"
            ],
            [
             0.8,
             "#7fbc41"
            ],
            [
             0.9,
             "#4d9221"
            ],
            [
             1,
             "#276419"
            ]
           ],
           "sequential": [
            [
             0,
             "#0d0887"
            ],
            [
             0.1111111111111111,
             "#46039f"
            ],
            [
             0.2222222222222222,
             "#7201a8"
            ],
            [
             0.3333333333333333,
             "#9c179e"
            ],
            [
             0.4444444444444444,
             "#bd3786"
            ],
            [
             0.5555555555555556,
             "#d8576b"
            ],
            [
             0.6666666666666666,
             "#ed7953"
            ],
            [
             0.7777777777777778,
             "#fb9f3a"
            ],
            [
             0.8888888888888888,
             "#fdca26"
            ],
            [
             1,
             "#f0f921"
            ]
           ],
           "sequentialminus": [
            [
             0,
             "#0d0887"
            ],
            [
             0.1111111111111111,
             "#46039f"
            ],
            [
             0.2222222222222222,
             "#7201a8"
            ],
            [
             0.3333333333333333,
             "#9c179e"
            ],
            [
             0.4444444444444444,
             "#bd3786"
            ],
            [
             0.5555555555555556,
             "#d8576b"
            ],
            [
             0.6666666666666666,
             "#ed7953"
            ],
            [
             0.7777777777777778,
             "#fb9f3a"
            ],
            [
             0.8888888888888888,
             "#fdca26"
            ],
            [
             1,
             "#f0f921"
            ]
           ]
          },
          "colorway": [
           "#636efa",
           "#EF553B",
           "#00cc96",
           "#ab63fa",
           "#FFA15A",
           "#19d3f3",
           "#FF6692",
           "#B6E880",
           "#FF97FF",
           "#FECB52"
          ],
          "font": {
           "color": "#2a3f5f"
          },
          "geo": {
           "bgcolor": "white",
           "lakecolor": "white",
           "landcolor": "#E5ECF6",
           "showlakes": true,
           "showland": true,
           "subunitcolor": "white"
          },
          "hoverlabel": {
           "align": "left"
          },
          "hovermode": "closest",
          "mapbox": {
           "style": "light"
          },
          "paper_bgcolor": "white",
          "plot_bgcolor": "#E5ECF6",
          "polar": {
           "angularaxis": {
            "gridcolor": "white",
            "linecolor": "white",
            "ticks": ""
           },
           "bgcolor": "#E5ECF6",
           "radialaxis": {
            "gridcolor": "white",
            "linecolor": "white",
            "ticks": ""
           }
          },
          "scene": {
           "xaxis": {
            "backgroundcolor": "#E5ECF6",
            "gridcolor": "white",
            "gridwidth": 2,
            "linecolor": "white",
            "showbackground": true,
            "ticks": "",
            "zerolinecolor": "white"
           },
           "yaxis": {
            "backgroundcolor": "#E5ECF6",
            "gridcolor": "white",
            "gridwidth": 2,
            "linecolor": "white",
            "showbackground": true,
            "ticks": "",
            "zerolinecolor": "white"
           },
           "zaxis": {
            "backgroundcolor": "#E5ECF6",
            "gridcolor": "white",
            "gridwidth": 2,
            "linecolor": "white",
            "showbackground": true,
            "ticks": "",
            "zerolinecolor": "white"
           }
          },
          "shapedefaults": {
           "line": {
            "color": "#2a3f5f"
           }
          },
          "ternary": {
           "aaxis": {
            "gridcolor": "white",
            "linecolor": "white",
            "ticks": ""
           },
           "baxis": {
            "gridcolor": "white",
            "linecolor": "white",
            "ticks": ""
           },
           "bgcolor": "#E5ECF6",
           "caxis": {
            "gridcolor": "white",
            "linecolor": "white",
            "ticks": ""
           }
          },
          "title": {
           "x": 0.05
          },
          "xaxis": {
           "automargin": true,
           "gridcolor": "white",
           "linecolor": "white",
           "ticks": "",
           "title": {
            "standoff": 15
           },
           "zerolinecolor": "white",
           "zerolinewidth": 2
          },
          "yaxis": {
           "automargin": true,
           "gridcolor": "white",
           "linecolor": "white",
           "ticks": "",
           "title": {
            "standoff": 15
           },
           "zerolinecolor": "white",
           "zerolinewidth": 2
          }
         }
        },
        "title": {
         "text": "Average Trips per Week for Different Trips"
        },
        "width": 1200,
        "xaxis": {
         "anchor": "y",
         "autorange": true,
         "categoryarray": [
          "Trips 1-25 Miles",
          "Trips 1-3 Miles",
          "Trips 10-25 Miles",
          "Trips 100-250 Miles",
          "Trips 100+ Miles",
          "Trips 25-100 Miles",
          "Trips 25-50 Miles",
          "Trips 250-500 Miles",
          "Trips 3-5 Miles",
          "Trips 5-10 Miles",
          "Trips 50-100 Miles",
          "Trips 500+ Miles"
         ],
         "categoryorder": "array",
         "domain": [
          0,
          1
         ],
         "range": [
          -0.5,
          11.5
         ],
         "title": {
          "text": "Trip"
         },
         "type": "category"
        },
        "yaxis": {
         "anchor": "x",
         "autorange": true,
         "domain": [
          0,
          1
         ],
         "range": [
          0,
          1069005752.9323308
         ],
         "title": {
          "text": "Average Trips"
         },
         "type": "linear"
        }
       }
      },
      "image/png": "[encoded data removed]",
      "text/html": [
       "<div>                            <div id=\"c052be5e-e966-481a-aa5e-501ce11cdc1e\" class=\"plotly-graph-div\" style=\"height:600px; width:1200px;\"></div>            <script type=\"text/javascript\">                require([\"plotly\"], function(Plotly) {                    window.PLOTLYENV=window.PLOTLYENV || {};                                    if (document.getElementById(\"c052be5e-e966-481a-aa5e-501ce11cdc1e\")) {                    Plotly.newPlot(                        \"c052be5e-e966-481a-aa5e-501ce11cdc1e\",                        [{\"alignmentgroup\":\"True\",\"hovertemplate\":\"Trip=%{x}\\u003cbr\\u003eAverage Trips=%{y}\\u003cextra\\u003e\\u003c\\u002fextra\\u003e\",\"legendgroup\":\"Trips 1-25 Miles\",\"marker\":{\"color\":\"#636efa\",\"pattern\":{\"shape\":\"\"}},\"name\":\"Trips 1-25 Miles\",\"offsetgroup\":\"Trips 1-25 Miles\",\"orientation\":\"v\",\"showlegend\":true,\"textposition\":\"auto\",\"x\":[\"Trips 1-25 Miles\"],\"xaxis\":\"x\",\"y\":[1015555465.2857143],\"yaxis\":\"y\",\"type\":\"bar\"},{\"alignmentgroup\":\"True\",\"hovertemplate\":\"Trip=%{x}\\u003cbr\\u003eAverage Trips=%{y}\\u003cextra\\u003e\\u003c\\u002fextra\\u003e\",\"legendgroup\":\"Trips 1-3 Miles\",\"marker\":{\"color\":\"#EF553B\",\"pattern\":{\"shape\":\"\"}},\"name\":\"Trips 1-3 Miles\",\"offsetgroup\":\"Trips 1-3 Miles\",\"orientation\":\"v\",\"showlegend\":true,\"textposition\":\"auto\",\"x\":[\"Trips 1-3 Miles\"],\"xaxis\":\"x\",\"y\":[369476656.71428573],\"yaxis\":\"y\",\"type\":\"bar\"},{\"alignmentgroup\":\"True\",\"hovertemplate\":\"Trip=%{x}\\u003cbr\\u003eAverage Trips=%{y}\\u003cextra\\u003e\\u003c\\u002fextra\\u003e\",\"legendgroup\":\"Trips 10-25 Miles\",\"marker\":{\"color\":\"#00cc96\",\"pattern\":{\"shape\":\"\"}},\"name\":\"Trips 10-25 Miles\",\"offsetgroup\":\"Trips 10-25 Miles\",\"orientation\":\"v\",\"showlegend\":true,\"textposition\":\"auto\",\"x\":[\"Trips 10-25 Miles\"],\"xaxis\":\"x\",\"y\":[231078511.0],\"yaxis\":\"y\",\"type\":\"bar\"},{\"alignmentgroup\":\"True\",\"hovertemplate\":\"Trip=%{x}\\u003cbr\\u003eAverage Trips=%{y}\\u003cextra\\u003e\\u003c\\u002fextra\\u003e\",\"legendgroup\":\"Trips 100-250 Miles\",\"marker\":{\"color\":\"#ab63fa\",\"pattern\":{\"shape\":\"\"}},\"name\":\"Trips 100-250 Miles\",\"offsetgroup\":\"Trips 100-250 Miles\",\"orientation\":\"v\",\"showlegend\":true,\"textposition\":\"auto\",\"x\":[\"Trips 100-250 Miles\"],\"xaxis\":\"x\",\"y\":[6850130.0],\"yaxis\":\"y\",\"type\":\"bar\"},{\"alignmentgroup\":\"True\",\"hovertemplate\":\"Trip=%{x}\\u003cbr\\u003eAverage Trips=%{y}\\u003cextra\\u003e\\u003c\\u002fextra\\u003e\",\"legendgroup\":\"Trips 100+ Miles\",\"marker\":{\"color\":\"#FFA15A\",\"pattern\":{\"shape\":\"\"}},\"name\":\"Trips 100+ Miles\",\"offsetgroup\":\"Trips 100+ Miles\",\"orientation\":\"v\",\"showlegend\":true,\"textposition\":\"auto\",\"x\":[\"Trips 100+ Miles\"],\"xaxis\":\"x\",\"y\":[12122473.142857144],\"yaxis\":\"y\",\"type\":\"bar\"},{\"alignmentgroup\":\"True\",\"hovertemplate\":\"Trip=%{x}\\u003cbr\\u003eAverage Trips=%{y}\\u003cextra\\u003e\\u003c\\u002fextra\\u003e\",\"legendgroup\":\"Trips 25-100 Miles\",\"marker\":{\"color\":\"#19d3f3\",\"pattern\":{\"shape\":\"\"}},\"name\":\"Trips 25-100 Miles\",\"offsetgroup\":\"Trips 25-100 Miles\",\"orientation\":\"v\",\"showlegend\":true,\"textposition\":\"auto\",\"x\":[\"Trips 25-100 Miles\"],\"xaxis\":\"x\",\"y\":[88037454.71428572],\"yaxis\":\"y\",\"type\":\"bar\"},{\"alignmentgroup\":\"True\",\"hovertemplate\":\"Trip=%{x}\\u003cbr\\u003eAverage Trips=%{y}\\u003cextra\\u003e\\u003c\\u002fextra\\u003e\",\"legendgroup\":\"Trips 25-50 Miles\",\"marker\":{\"color\":\"#FF6692\",\"pattern\":{\"shape\":\"\"}},\"name\":\"Trips 25-50 Miles\",\"offsetgroup\":\"Trips 25-50 Miles\",\"orientation\":\"v\",\"showlegend\":true,\"textposition\":\"auto\",\"x\":[\"Trips 25-50 Miles\"],\"xaxis\":\"x\",\"y\":[69159131.42857143],\"yaxis\":\"y\",\"type\":\"bar\"},{\"alignmentgroup\":\"True\",\"hovertemplate\":\"Trip=%{x}\\u003cbr\\u003eAverage Trips=%{y}\\u003cextra\\u003e\\u003c\\u002fextra\\u003e\",\"legendgroup\":\"Trips 250-500 Miles\",\"marker\":{\"color\":\"#B6E880\",\"pattern\":{\"shape\":\"\"}},\"name\":\"Trips 250-500 Miles\",\"offsetgroup\":\"Trips 250-500 Miles\",\"orientation\":\"v\",\"showlegend\":true,\"textposition\":\"auto\",\"x\":[\"Trips 250-500 Miles\"],\"xaxis\":\"x\",\"y\":[1829242.0],\"yaxis\":\"y\",\"type\":\"bar\"},{\"alignmentgroup\":\"True\",\"hovertemplate\":\"Trip=%{x}\\u003cbr\\u003eAverage Trips=%{y}\\u003cextra\\u003e\\u003c\\u002fextra\\u003e\",\"legendgroup\":\"Trips 3-5 Miles\",\"marker\":{\"color\":\"#FF97FF\",\"pattern\":{\"shape\":\"\"}},\"name\":\"Trips 3-5 Miles\",\"offsetgroup\":\"Trips 3-5 Miles\",\"orientation\":\"v\",\"showlegend\":true,\"textposition\":\"auto\",\"x\":[\"Trips 3-5 Miles\"],\"xaxis\":\"x\",\"y\":[181555833.57142857],\"yaxis\":\"y\",\"type\":\"bar\"},{\"alignmentgroup\":\"True\",\"hovertemplate\":\"Trip=%{x}\\u003cbr\\u003eAverage Trips=%{y}\\u003cextra\\u003e\\u003c\\u002fextra\\u003e\",\"legendgroup\":\"Trips 5-10 Miles\",\"marker\":{\"color\":\"#FECB52\",\"pattern\":{\"shape\":\"\"}},\"name\":\"Trips 5-10 Miles\",\"offsetgroup\":\"Trips 5-10 Miles\",\"orientation\":\"v\",\"showlegend\":true,\"textposition\":\"auto\",\"x\":[\"Trips 5-10 Miles\"],\"xaxis\":\"x\",\"y\":[233444464.0],\"yaxis\":\"y\",\"type\":\"bar\"},{\"alignmentgroup\":\"True\",\"hovertemplate\":\"Trip=%{x}\\u003cbr\\u003eAverage Trips=%{y}\\u003cextra\\u003e\\u003c\\u002fextra\\u003e\",\"legendgroup\":\"Trips 50-100 Miles\",\"marker\":{\"color\":\"#636efa\",\"pattern\":{\"shape\":\"\"}},\"name\":\"Trips 50-100 Miles\",\"offsetgroup\":\"Trips 50-100 Miles\",\"orientation\":\"v\",\"showlegend\":true,\"textposition\":\"auto\",\"x\":[\"Trips 50-100 Miles\"],\"xaxis\":\"x\",\"y\":[18878323.285714287],\"yaxis\":\"y\",\"type\":\"bar\"},{\"alignmentgroup\":\"True\",\"hovertemplate\":\"Trip=%{x}\\u003cbr\\u003eAverage Trips=%{y}\\u003cextra\\u003e\\u003c\\u002fextra\\u003e\",\"legendgroup\":\"Trips 500+ Miles\",\"marker\":{\"color\":\"#EF553B\",\"pattern\":{\"shape\":\"\"}},\"name\":\"Trips 500+ Miles\",\"offsetgroup\":\"Trips 500+ Miles\",\"orientation\":\"v\",\"showlegend\":true,\"textposition\":\"auto\",\"x\":[\"Trips 500+ Miles\"],\"xaxis\":\"x\",\"y\":[3443101.1428571427],\"yaxis\":\"y\",\"type\":\"bar\"}],                        {\"template\":{\"data\":{\"histogram2dcontour\":[{\"type\":\"histogram2dcontour\",\"colorbar\":{\"outlinewidth\":0,\"ticks\":\"\"},\"colorscale\":[[0.0,\"#0d0887\"],[0.1111111111111111,\"#46039f\"],[0.2222222222222222,\"#7201a8\"],[0.3333333333333333,\"#9c179e\"],[0.4444444444444444,\"#bd3786\"],[0.5555555555555556,\"#d8576b\"],[0.6666666666666666,\"#ed7953\"],[0.7777777777777778,\"#fb9f3a\"],[0.8888888888888888,\"#fdca26\"],[1.0,\"#f0f921\"]]}],\"choropleth\":[{\"type\":\"choropleth\",\"colorbar\":{\"outlinewidth\":0,\"ticks\":\"\"}}],\"histogram2d\":[{\"type\":\"histogram2d\",\"colorbar\":{\"outlinewidth\":0,\"ticks\":\"\"},\"colorscale\":[[0.0,\"#0d0887\"],[0.1111111111111111,\"#46039f\"],[0.2222222222222222,\"#7201a8\"],[0.3333333333333333,\"#9c179e\"],[0.4444444444444444,\"#bd3786\"],[0.5555555555555556,\"#d8576b\"],[0.6666666666666666,\"#ed7953\"],[0.7777777777777778,\"#fb9f3a\"],[0.8888888888888888,\"#fdca26\"],[1.0,\"#f0f921\"]]}],\"heatmap\":[{\"type\":\"heatmap\",\"colorbar\":{\"outlinewidth\":0,\"ticks\":\"\"},\"colorscale\":[[0.0,\"#0d0887\"],[0.1111111111111111,\"#46039f\"],[0.2222222222222222,\"#7201a8\"],[0.3333333333333333,\"#9c179e\"],[0.4444444444444444,\"#bd3786\"],[0.5555555555555556,\"#d8576b\"],[0.6666666666666666,\"#ed7953\"],[0.7777777777777778,\"#fb9f3a\"],[0.8888888888888888,\"#fdca26\"],[1.0,\"#f0f921\"]]}],\"heatmapgl\":[{\"type\":\"heatmapgl\",\"colorbar\":{\"outlinewidth\":0,\"ticks\":\"\"},\"colorscale\":[[0.0,\"#0d0887\"],[0.1111111111111111,\"#46039f\"],[0.2222222222222222,\"#7201a8\"],[0.3333333333333333,\"#9c179e\"],[0.4444444444444444,\"#bd3786\"],[0.5555555555555556,\"#d8576b\"],[0.6666666666666666,\"#ed7953\"],[0.7777777777777778,\"#fb9f3a\"],[0.8888888888888888,\"#fdca26\"],[1.0,\"#f0f921\"]]}],\"contourcarpet\":[{\"type\":\"contourcarpet\",\"colorbar\":{\"outlinewidth\":0,\"ticks\":\"\"}}],\"contour\":[{\"type\":\"contour\",\"colorbar\":{\"outlinewidth\":0,\"ticks\":\"\"},\"colorscale\":[[0.0,\"#0d0887\"],[0.1111111111111111,\"#46039f\"],[0.2222222222222222,\"#7201a8\"],[0.3333333333333333,\"#9c179e\"],[0.4444444444444444,\"#bd3786\"],[0.5555555555555556,\"#d8576b\"],[0.6666666666666666,\"#ed7953\"],[0.7777777777777778,\"#fb9f3a\"],[0.8888888888888888,\"#fdca26\"],[1.0,\"#f0f921\"]]}],\"surface\":[{\"type\":\"surface\",\"colorbar\":{\"outlinewidth\":0,\"ticks\":\"\"},\"colorscale\":[[0.0,\"#0d0887\"],[0.1111111111111111,\"#46039f\"],[0.2222222222222222,\"#7201a8\"],[0.3333333333333333,\"#9c179e\"],[0.4444444444444444,\"#bd3786\"],[0.5555555555555556,\"#d8576b\"],[0.6666666666666666,\"#ed7953\"],[0.7777777777777778,\"#fb9f3a\"],[0.8888888888888888,\"#fdca26\"],[1.0,\"#f0f921\"]]}],\"mesh3d\":[{\"type\":\"mesh3d\",\"colorbar\":{\"outlinewidth\":0,\"ticks\":\"\"}}],\"scatter\":[{\"fillpattern\":{\"fillmode\":\"overlay\",\"size\":10,\"solidity\":0.2},\"type\":\"scatter\"}],\"parcoords\":[{\"type\":\"parcoords\",\"line\":{\"colorbar\":{\"outlinewidth\":0,\"ticks\":\"\"}}}],\"scatterpolargl\":[{\"type\":\"scatterpolargl\",\"marker\":{\"colorbar\":{\"outlinewidth\":0,\"ticks\":\"\"}}}],\"bar\":[{\"error_x\":{\"color\":\"#2a3f5f\"},\"error_y\":{\"color\":\"#2a3f5f\"},\"marker\":{\"line\":{\"color\":\"#E5ECF6\",\"width\":0.5},\"pattern\":{\"fillmode\":\"overlay\",\"size\":10,\"solidity\":0.2}},\"type\":\"bar\"}],\"scattergeo\":[{\"type\":\"scattergeo\",\"marker\":{\"colorbar\":{\"outlinewidth\":0,\"ticks\":\"\"}}}],\"scatterpolar\":[{\"type\":\"scatterpolar\",\"marker\":{\"colorbar\":{\"outlinewidth\":0,\"ticks\":\"\"}}}],\"histogram\":[{\"marker\":{\"pattern\":{\"fillmode\":\"overlay\",\"size\":10,\"solidity\":0.2}},\"type\":\"histogram\"}],\"scattergl\":[{\"type\":\"scattergl\",\"marker\":{\"colorbar\":{\"outlinewidth\":0,\"ticks\":\"\"}}}],\"scatter3d\":[{\"type\":\"scatter3d\",\"line\":{\"colorbar\":{\"outlinewidth\":0,\"ticks\":\"\"}},\"marker\":{\"colorbar\":{\"outlinewidth\":0,\"ticks\":\"\"}}}],\"scattermapbox\":[{\"type\":\"scattermapbox\",\"marker\":{\"colorbar\":{\"outlinewidth\":0,\"ticks\":\"\"}}}],\"scatterternary\":[{\"type\":\"scatterternary\",\"marker\":{\"colorbar\":{\"outlinewidth\":0,\"ticks\":\"\"}}}],\"scattercarpet\":[{\"type\":\"scattercarpet\",\"marker\":{\"colorbar\":{\"outlinewidth\":0,\"ticks\":\"\"}}}],\"carpet\":[{\"aaxis\":{\"endlinecolor\":\"#2a3f5f\",\"gridcolor\":\"white\",\"linecolor\":\"white\",\"minorgridcolor\":\"white\",\"startlinecolor\":\"#2a3f5f\"},\"baxis\":{\"endlinecolor\":\"#2a3f5f\",\"gridcolor\":\"white\",\"linecolor\":\"white\",\"minorgridcolor\":\"white\",\"startlinecolor\":\"#2a3f5f\"},\"type\":\"carpet\"}],\"table\":[{\"cells\":{\"fill\":{\"color\":\"#EBF0F8\"},\"line\":{\"color\":\"white\"}},\"header\":{\"fill\":{\"color\":\"#C8D4E3\"},\"line\":{\"color\":\"white\"}},\"type\":\"table\"}],\"barpolar\":[{\"marker\":{\"line\":{\"color\":\"#E5ECF6\",\"width\":0.5},\"pattern\":{\"fillmode\":\"overlay\",\"size\":10,\"solidity\":0.2}},\"type\":\"barpolar\"}],\"pie\":[{\"automargin\":true,\"type\":\"pie\"}]},\"layout\":{\"autotypenumbers\":\"strict\",\"colorway\":[\"#636efa\",\"#EF553B\",\"#00cc96\",\"#ab63fa\",\"#FFA15A\",\"#19d3f3\",\"#FF6692\",\"#B6E880\",\"#FF97FF\",\"#FECB52\"],\"font\":{\"color\":\"#2a3f5f\"},\"hovermode\":\"closest\",\"hoverlabel\":{\"align\":\"left\"},\"paper_bgcolor\":\"white\",\"plot_bgcolor\":\"#E5ECF6\",\"polar\":{\"bgcolor\":\"#E5ECF6\",\"angularaxis\":{\"gridcolor\":\"white\",\"linecolor\":\"white\",\"ticks\":\"\"},\"radialaxis\":{\"gridcolor\":\"white\",\"linecolor\":\"white\",\"ticks\":\"\"}},\"ternary\":{\"bgcolor\":\"#E5ECF6\",\"aaxis\":{\"gridcolor\":\"white\",\"linecolor\":\"white\",\"ticks\":\"\"},\"baxis\":{\"gridcolor\":\"white\",\"linecolor\":\"white\",\"ticks\":\"\"},\"caxis\":{\"gridcolor\":\"white\",\"linecolor\":\"white\",\"ticks\":\"\"}},\"coloraxis\":{\"colorbar\":{\"outlinewidth\":0,\"ticks\":\"\"}},\"colorscale\":{\"sequential\":[[0.0,\"#0d0887\"],[0.1111111111111111,\"#46039f\"],[0.2222222222222222,\"#7201a8\"],[0.3333333333333333,\"#9c179e\"],[0.4444444444444444,\"#bd3786\"],[0.5555555555555556,\"#d8576b\"],[0.6666666666666666,\"#ed7953\"],[0.7777777777777778,\"#fb9f3a\"],[0.8888888888888888,\"#fdca26\"],[1.0,\"#f0f921\"]],\"sequentialminus\":[[0.0,\"#0d0887\"],[0.1111111111111111,\"#46039f\"],[0.2222222222222222,\"#7201a8\"],[0.3333333333333333,\"#9c179e\"],[0.4444444444444444,\"#bd3786\"],[0.5555555555555556,\"#d8576b\"],[0.6666666666666666,\"#ed7953\"],[0.7777777777777778,\"#fb9f3a\"],[0.8888888888888888,\"#fdca26\"],[1.0,\"#f0f921\"]],\"diverging\":[[0,\"#8e0152\"],[0.1,\"#c51b7d\"],[0.2,\"#de77ae\"],[0.3,\"#f1b6da\"],[0.4,\"#fde0ef\"],[0.5,\"#f7f7f7\"],[0.6,\"#e6f5d0\"],[0.7,\"#b8e186\"],[0.8,\"#7fbc41\"],[0.9,\"#4d9221\"],[1,\"#276419\"]]},\"xaxis\":{\"gridcolor\":\"white\",\"linecolor\":\"white\",\"ticks\":\"\",\"title\":{\"standoff\":15},\"zerolinecolor\":\"white\",\"automargin\":true,\"zerolinewidth\":2},\"yaxis\":{\"gridcolor\":\"white\",\"linecolor\":\"white\",\"ticks\":\"\",\"title\":{\"standoff\":15},\"zerolinecolor\":\"white\",\"automargin\":true,\"zerolinewidth\":2},\"scene\":{\"xaxis\":{\"backgroundcolor\":\"#E5ECF6\",\"gridcolor\":\"white\",\"linecolor\":\"white\",\"showbackground\":true,\"ticks\":\"\",\"zerolinecolor\":\"white\",\"gridwidth\":2},\"yaxis\":{\"backgroundcolor\":\"#E5ECF6\",\"gridcolor\":\"white\",\"linecolor\":\"white\",\"showbackground\":true,\"ticks\":\"\",\"zerolinecolor\":\"white\",\"gridwidth\":2},\"zaxis\":{\"backgroundcolor\":\"#E5ECF6\",\"gridcolor\":\"white\",\"linecolor\":\"white\",\"showbackground\":true,\"ticks\":\"\",\"zerolinecolor\":\"white\",\"gridwidth\":2}},\"shapedefaults\":{\"line\":{\"color\":\"#2a3f5f\"}},\"annotationdefaults\":{\"arrowcolor\":\"#2a3f5f\",\"arrowhead\":0,\"arrowwidth\":1},\"geo\":{\"bgcolor\":\"white\",\"landcolor\":\"#E5ECF6\",\"subunitcolor\":\"white\",\"showland\":true,\"showlakes\":true,\"lakecolor\":\"white\"},\"title\":{\"x\":0.05},\"mapbox\":{\"style\":\"light\"}}},\"xaxis\":{\"anchor\":\"y\",\"domain\":[0.0,1.0],\"title\":{\"text\":\"Trip\"},\"categoryorder\":\"array\",\"categoryarray\":[\"Trips 1-25 Miles\",\"Trips 1-3 Miles\",\"Trips 10-25 Miles\",\"Trips 100-250 Miles\",\"Trips 100+ Miles\",\"Trips 25-100 Miles\",\"Trips 25-50 Miles\",\"Trips 250-500 Miles\",\"Trips 3-5 Miles\",\"Trips 5-10 Miles\",\"Trips 50-100 Miles\",\"Trips 500+ Miles\"]},\"yaxis\":{\"anchor\":\"x\",\"domain\":[0.0,1.0],\"title\":{\"text\":\"Average Trips\"}},\"legend\":{\"title\":{\"text\":\"Trip\"},\"tracegroupgap\":0},\"title\":{\"text\":\"Average Trips per Week for Different Trips\"},\"barmode\":\"relative\",\"height\":600,\"width\":1200},                        {\"responsive\": true}                    ).then(function(){\n",
       "                            \n",
       "var gd = document.getElementById('c052be5e-e966-481a-aa5e-501ce11cdc1e');\n",
       "var x = new MutationObserver(function (mutations, observer) {{\n",
       "        var display = window.getComputedStyle(gd).display;\n",
       "        if (!display || display === 'none') {{\n",
       "            console.log([gd, 'removed!']);\n",
       "            Plotly.purge(gd);\n",
       "            observer.disconnect();\n",
       "        }}\n",
       "}});\n",
       "\n",
       "// Listen for the removal of the full notebook cells\n",
       "var notebookContainer = gd.closest('#notebook-container');\n",
       "if (notebookContainer) {{\n",
       "    x.observe(notebookContainer, {childList: true});\n",
       "}}\n",
       "\n",
       "// Listen for the clearing of the current output cell\n",
       "var outputEl = gd.closest('.output');\n",
       "if (outputEl) {{\n",
       "    x.observe(outputEl, {childList: true});\n",
       "}}\n",
       "\n",
       "                        })                };                });            </script>        </div>"
      ]
     },
     "metadata": {},
     "output_type": "display_data"
    }
   ],
   "source": [
    "melted_data = results_1b.reset_index().melt(id_vars='Week', var_name='Trip', value_name='Average Trips')\n",
    "\n",
    "# Plot the transposed data\n",
    "fig = px.bar(melted_data, x='Trip', y='Average Trips', color='Trip',\n",
    "             title='Average Trips per Week for Different Trips',\n",
    "             labels={'Week': 'Week', 'Average Trips': 'Average Trips'})\n",
    "fig.update_layout(height=600, width=1200)\n",
    "fig.show()"
   ]
  },
  {
   "cell_type": "markdown",
   "id": "24da56d9-b827-49c0-98d0-80961b701733",
   "metadata": {},
   "source": [
    "#### 1 C - Filtering"
   ]
  },
  {
   "cell_type": "code",
   "execution_count": 15,
   "id": "1de821dd-2953-445d-ab87-5ae2a3cbbb29",
   "metadata": {},
   "outputs": [
    {
     "name": "stdout",
     "output_type": "stream",
     "text": [
      "\n",
      "Results with sequential processing (synchronous scheduler):\n",
      "\n",
      "Read Time (Sequential): 0.05 seconds\n",
      "Filtering Time (Sequential): 0.01 seconds\n",
      "Total Time (Sequential): 0.060000000000000005 seconds\n",
      "\n",
      "Results with 10 processors (synchronous scheduler):\n",
      "\n",
      "Read Time (10 processors): 0.07 seconds\n",
      "Filtering Time (10 processors): 0.01 seconds\n",
      "Total Time (10 processors): 0.08 seconds\n",
      "\n",
      "Results with 20 processors (synchronous scheduler):\n",
      "\n",
      "Read Time (20 processors): 0.06 seconds\n",
      "Filtering Time (20 processors): 0.01 seconds\n",
      "Total Time (20 processors): 0.06999999999999999 seconds\n"
     ]
    }
   ],
   "source": [
    "import dask\n",
    "import dask.dataframe as dd\n",
    "from time import time\n",
    "\n",
    "def read_data(file_path):\n",
    "    #import data using Dask\n",
    "    start_read_time = time()\n",
    "    dtypes = {'County Name': 'object', 'State Postal Code': 'object', 'Number of Trips': 'float64',\n",
    "       'Number of Trips 1-3': 'float64',\n",
    "       'Number of Trips 10-25': 'float64',\n",
    "       'Number of Trips 100-250': 'float64',\n",
    "       'Number of Trips 25-50': 'float64',\n",
    "       'Number of Trips 250-500': 'float64',\n",
    "       'Number of Trips 3-5': 'float64',\n",
    "       'Number of Trips 5-10': 'float64',\n",
    "       'Number of Trips 50-100': 'float64',\n",
    "       'Number of Trips <1': 'float64',\n",
    "       'Number of Trips >=500': 'float64',\n",
    "       'Population Not Staying at Home': 'float64',\n",
    "       'Population Staying at Home': 'float64'}\n",
    "    data = dd.read_csv(file_path, dtype=dtypes)\n",
    "    end_read_time = time()\n",
    "    read_time = round(end_read_time - start_read_time, 2)\n",
    "\n",
    "    return data, read_time\n",
    "\n",
    "def filter_data(data, num_workers=None):\n",
    "    # Select analysis columns\n",
    "    selected_columns = ['Date', 'Number of Trips 10-25', 'Number of Trips 50-100']\n",
    "    data_selected = data[selected_columns]\n",
    "\n",
    "    # Drop rows with missing entries\n",
    "    data_selected = data_selected.dropna()\n",
    "\n",
    "    # Record start time for filtering\n",
    "    start_filter_time = time()\n",
    "\n",
    "    # Filter data for > 100,000,000 people and 10-25 number of trips\n",
    "    filtered_10_25 = data_selected[data_selected['Number of Trips 10-25'] > 100000000]\n",
    "\n",
    "    # Filter data for > 10,000,000 people and 50-100 number of trips\n",
    "    filtered_50_100 = data_selected[data_selected['Number of Trips 50-100'] > 10000000]\n",
    "\n",
    "    # Compute the results using Dask delayed\n",
    "    if num_workers is not None:\n",
    "        dask.config.set(scheduler='synchronous')\n",
    "\n",
    "        # Lazily compute the results using Dask delayed\n",
    "        filtered_10_25 = dask.delayed(filtered_10_25.compute)()\n",
    "        filtered_50_100 = dask.delayed(filtered_50_100.compute)()\n",
    "\n",
    "    # Record end time for filtering\n",
    "    end_filter_time = time()\n",
    "    filter_time = round(end_filter_time - start_filter_time, 2)\n",
    "\n",
    "    return filtered_10_25, filtered_50_100, filter_time\n",
    "\n",
    "def main():\n",
    "    file_path = \"data/Trips_by_Distance.csv\"\n",
    "\n",
    "    # Processing sequentially\n",
    "    data_seq, read_time_seq = read_data(file_path)\n",
    "    filtered_10_25_seq, filtered_50_100_seq, filter_time_seq = filter_data(data_seq.compute(scheduler='synchronous'))\n",
    "    total_time_seq = read_time_seq + filter_time_seq\n",
    "\n",
    "    print(\"\\nResults with sequential processing (synchronous scheduler):\")\n",
    "    print(\"\\nRead Time (Sequential): {} seconds\".format(read_time_seq))\n",
    "    print(\"Filtering Time (Sequential): {} seconds\".format(filter_time_seq))\n",
    "    print(\"Total Time (Sequential): {} seconds\".format(total_time_seq))\n",
    "\n",
    "    # Processing with 10 processors\n",
    "    data_10, read_time_10 = read_data(file_path)\n",
    "    filtered_10_25_10, filtered_50_100_10, filter_time_10 = filter_data(data_10, num_workers=10)\n",
    "    total_time_10 = read_time_10 + filter_time_10\n",
    "\n",
    "    print(\"\\nResults with 10 processors (synchronous scheduler):\")\n",
    "    print(\"\\nRead Time (10 processors): {} seconds\".format(read_time_10))\n",
    "    print(\"Filtering Time (10 processors): {} seconds\".format(filter_time_10))\n",
    "    print(\"Total Time (10 processors): {} seconds\".format(total_time_10))\n",
    "\n",
    "    # Processing with 20 processors\n",
    "    data_20, read_time_20 = read_data(file_path)\n",
    "    filtered_10_25_20, filtered_50_100_20, filter_time_20 = filter_data(data_20, num_workers=20)\n",
    "    total_time_20 = read_time_20 + filter_time_20\n",
    "\n",
    "    print(\"\\nResults with 20 processors (synchronous scheduler):\")\n",
    "    print(\"\\nRead Time (20 processors): {} seconds\".format(read_time_20))\n",
    "    print(\"Filtering Time (20 processors): {} seconds\".format(filter_time_20))\n",
    "    print(\"Total Time (20 processors): {} seconds\".format(total_time_20))\n",
    "\n",
    "    # Return DataFrames for visualization\n",
    "    return (\n",
    "        filtered_10_25_seq, filtered_50_100_seq, total_time_seq,\n",
    "        filtered_10_25_10, filtered_50_100_10, total_time_10,\n",
    "        filtered_10_25_20, filtered_50_100_20, total_time_20\n",
    "    )\n",
    "\n",
    "if __name__ == '__main__':\n",
    "    (\n",
    "        filtered_10_25_seq, filtered_50_100_seq, total_time_seq,\n",
    "        filtered_10_25_10, filtered_50_100_10, total_time_10,\n",
    "        filtered_10_25_20, filtered_50_100_20, total_time_20\n",
    "    ) = main()\n"
   ]
  },
  {
   "cell_type": "code",
   "execution_count": 16,
   "id": "dc67fb11-ca62-4819-8138-de12f6cd1c85",
   "metadata": {},
   "outputs": [],
   "source": [
    "#plot number of participants\n",
    "compared = filtered_10_25_20.merge(filtered_50_100_20).compute()"
   ]
  },
  {
   "cell_type": "code",
   "execution_count": null,
   "id": "4de75d71-6413-4301-a10f-6dee91a49868",
   "metadata": {},
   "outputs": [],
   "source": [
    "fig = px.line(compared, x='Date', y=['Number of Trips 10-25', 'Number of Trips 50-100'],\n",
    "              title='Filtered Trips with > 100,000,000 people and 10-25 or 50-100 Number of Trips')\n",
    "\n",
    "# Update layout for better visualization\n",
    "fig.update_layout(xaxis_title='Date', yaxis_title='Number of Trips', legend_title='Trip Categories')\n",
    "fig.update_layout(legend=dict(\n",
    "    orientation=\"h\",\n",
    "    yanchor=\"middle\",\n",
    "    y=1.02,\n",
    "    xanchor=\"right\",\n",
    "    x=1\n",
    "))\n",
    "fig.update_layout(height=600, width=1200)\n",
    "fig.show()\n"
   ]
  },
  {
   "cell_type": "code",
   "execution_count": null,
   "id": "e10c83c6-59a5-474d-b2eb-90f61d33ce6f",
   "metadata": {},
   "outputs": [],
   "source": []
  },
  {
   "cell_type": "markdown",
   "id": "54e337b5-7f3c-4f15-9adc-efaf5fa673a9",
   "metadata": {},
   "source": [
    "##### Compare Time used for Sequential, 10 Processors, and 20 Processors"
   ]
  },
  {
   "cell_type": "code",
   "execution_count": 19,
   "id": "50bf707e-6439-4755-85c1-b3dfec21d72e",
   "metadata": {},
   "outputs": [],
   "source": [
    "processors = [\"10 Processors Q1.A\", '20 Processors Q1.A',\"Sequential Q1.A\",\"10 Processors Q1.B\",\n",
    "              '20 Processors Q1.B',\"Sequential Q1.B\", \"Sequential Q1.C\",\"10 Processors Q1.C\", '20 Processors Q1.C']\n",
    "processing_time = [total_time_dask_10_1a, total_time_dask_20_1a, total_time_seq_1a,\n",
    "                   total_time_dask_10, total_time_dask_20, total_time_seq_1b, total_time_seq, total_time_10, total_time_20]"
   ]
  },
  {
   "cell_type": "code",
   "execution_count": 42,
   "id": "04c7bd74-6430-449d-9b1d-bb5cbac28e56",
   "metadata": {},
   "outputs": [
    {
     "data": {
      "text/html": [
       "<div>\n",
       "<style scoped>\n",
       "    .dataframe tbody tr th:only-of-type {\n",
       "        vertical-align: middle;\n",
       "    }\n",
       "\n",
       "    .dataframe tbody tr th {\n",
       "        vertical-align: top;\n",
       "    }\n",
       "\n",
       "    .dataframe thead th {\n",
       "        text-align: right;\n",
       "    }\n",
       "</style>\n",
       "<table border=\"1\" class=\"dataframe\">\n",
       "  <thead>\n",
       "    <tr style=\"text-align: right;\">\n",
       "      <th></th>\n",
       "      <th>Processor</th>\n",
       "      <th>Level</th>\n",
       "      <th>Processing Time (seconds)</th>\n",
       "    </tr>\n",
       "  </thead>\n",
       "  <tbody>\n",
       "    <tr>\n",
       "      <th>0</th>\n",
       "      <td>10 Processors Q1.A</td>\n",
       "      <td>10 Processors</td>\n",
       "      <td>52.90</td>\n",
       "    </tr>\n",
       "    <tr>\n",
       "      <th>1</th>\n",
       "      <td>20 Processors Q1.A</td>\n",
       "      <td>20 Processors</td>\n",
       "      <td>51.82</td>\n",
       "    </tr>\n",
       "    <tr>\n",
       "      <th>2</th>\n",
       "      <td>Sequential Q1.A</td>\n",
       "      <td>Sequential</td>\n",
       "      <td>39.29</td>\n",
       "    </tr>\n",
       "    <tr>\n",
       "      <th>3</th>\n",
       "      <td>10 Processors Q1.B</td>\n",
       "      <td>10 Processors</td>\n",
       "      <td>5.40</td>\n",
       "    </tr>\n",
       "    <tr>\n",
       "      <th>4</th>\n",
       "      <td>20 Processors Q1.B</td>\n",
       "      <td>20 Processors</td>\n",
       "      <td>16.24</td>\n",
       "    </tr>\n",
       "    <tr>\n",
       "      <th>5</th>\n",
       "      <td>Sequential Q1.B</td>\n",
       "      <td>Sequential</td>\n",
       "      <td>11.28</td>\n",
       "    </tr>\n",
       "    <tr>\n",
       "      <th>6</th>\n",
       "      <td>Sequential Q1.C</td>\n",
       "      <td>Sequential</td>\n",
       "      <td>0.06</td>\n",
       "    </tr>\n",
       "    <tr>\n",
       "      <th>7</th>\n",
       "      <td>10 Processors Q1.C</td>\n",
       "      <td>10 Processors</td>\n",
       "      <td>0.08</td>\n",
       "    </tr>\n",
       "    <tr>\n",
       "      <th>8</th>\n",
       "      <td>20 Processors Q1.C</td>\n",
       "      <td>20 Processors</td>\n",
       "      <td>0.07</td>\n",
       "    </tr>\n",
       "  </tbody>\n",
       "</table>\n",
       "</div>"
      ],
      "text/plain": [
       "            Processor          Level  Processing Time (seconds)\n",
       "0  10 Processors Q1.A  10 Processors                      52.90\n",
       "1  20 Processors Q1.A  20 Processors                      51.82\n",
       "2     Sequential Q1.A     Sequential                      39.29\n",
       "3  10 Processors Q1.B  10 Processors                       5.40\n",
       "4  20 Processors Q1.B  20 Processors                      16.24\n",
       "5     Sequential Q1.B     Sequential                      11.28\n",
       "6     Sequential Q1.C     Sequential                       0.06\n",
       "7  10 Processors Q1.C  10 Processors                       0.08\n",
       "8  20 Processors Q1.C  20 Processors                       0.07"
      ]
     },
     "execution_count": 42,
     "metadata": {},
     "output_type": "execute_result"
    }
   ],
   "source": [
    "# Define the processors and processing times\n",
    "processors = [\"10 Processors Q1.A\", '20 Processors Q1.A', \"Sequential Q1.A\", \"10 Processors Q1.B\",\n",
    "              '20 Processors Q1.B', \"Sequential Q1.B\", \"Sequential Q1.C\", \"10 Processors Q1.C\", '20 Processors Q1.C']\n",
    "processors_level = [\"10 Processors\", '20 Processors', \"Sequential\", \"10 Processors\",\n",
    "              '20 Processors', \"Sequential\", \"Sequential\", \"10 Processors\", '20 Processors']\n",
    "processing_time = [total_time_dask_10_1a, total_time_dask_20_1a, total_time_seq_1a,\n",
    "                   total_time_dask_10, total_time_dask_20, total_time_seq_1b, total_time_seq, total_time_10, total_time_20]\n",
    "\n",
    "# Create a DataFrame\n",
    "df = pd.DataFrame({'Processor': processors,'Level':processors_level, 'Processing Time (seconds)': processing_time})\n",
    "\n",
    "# show processing times\n",
    "df"
   ]
  },
  {
   "cell_type": "code",
   "execution_count": 43,
   "id": "c76c4753-03ee-4664-ac14-41e760d06fdf",
   "metadata": {},
   "outputs": [],
   "source": [
    "#df.to_csv(\"processing times.csv\", index = False)"
   ]
  },
  {
   "cell_type": "code",
   "execution_count": 22,
   "id": "daed71e5-d079-423a-b803-ea54771a7656",
   "metadata": {},
   "outputs": [
    {
     "name": "stdout",
     "output_type": "stream",
     "text": [
      "\n",
      "Mean Processing Times:\n"
     ]
    },
    {
     "data": {
      "text/html": [
       "<div>\n",
       "<style scoped>\n",
       "    .dataframe tbody tr th:only-of-type {\n",
       "        vertical-align: middle;\n",
       "    }\n",
       "\n",
       "    .dataframe tbody tr th {\n",
       "        vertical-align: top;\n",
       "    }\n",
       "\n",
       "    .dataframe thead th {\n",
       "        text-align: right;\n",
       "    }\n",
       "</style>\n",
       "<table border=\"1\" class=\"dataframe\">\n",
       "  <thead>\n",
       "    <tr style=\"text-align: right;\">\n",
       "      <th></th>\n",
       "      <th>Processing Time (seconds)</th>\n",
       "    </tr>\n",
       "    <tr>\n",
       "      <th>Level</th>\n",
       "      <th></th>\n",
       "    </tr>\n",
       "  </thead>\n",
       "  <tbody>\n",
       "    <tr>\n",
       "      <th>10 Processors</th>\n",
       "      <td>19.460000</td>\n",
       "    </tr>\n",
       "    <tr>\n",
       "      <th>20 Processors</th>\n",
       "      <td>22.710000</td>\n",
       "    </tr>\n",
       "    <tr>\n",
       "      <th>Sequential</th>\n",
       "      <td>16.876667</td>\n",
       "    </tr>\n",
       "  </tbody>\n",
       "</table>\n",
       "</div>"
      ],
      "text/plain": [
       "               Processing Time (seconds)\n",
       "Level                                   \n",
       "10 Processors                  19.460000\n",
       "20 Processors                  22.710000\n",
       "Sequential                     16.876667"
      ]
     },
     "execution_count": 22,
     "metadata": {},
     "output_type": "execute_result"
    }
   ],
   "source": [
    "# Compare mean processing times\n",
    "mean_times = pd.DataFrame(df.groupby('Level')['Processing Time (seconds)'].mean())\n",
    "print(\"\\nMean Processing Times:\")\n",
    "mean_times"
   ]
  },
  {
   "cell_type": "code",
   "execution_count": null,
   "id": "ccafe51d-b07f-45c3-a016-b9ad999147e7",
   "metadata": {},
   "outputs": [],
   "source": [
    "#bar chart for mean processing times\n",
    "fig = px.bar(mean_times.reset_index(), x='Level', y='Processing Time (seconds)', \n",
    "             title='Mean Processing Times by Processing type',\n",
    "             labels={'Processing Time (seconds)': 'Mean Processing Time (seconds)'})\n",
    "\n",
    "# Update layout for better visualization\n",
    "fig.update_layout(xaxis_title='Level', yaxis_title='Mean Processing Time (seconds)')\n",
    "\n",
    "# Display the figure\n",
    "fig.show()"
   ]
  },
  {
   "cell_type": "markdown",
   "id": "ffb457b4-ede6-4220-8eff-acb240ce2f56",
   "metadata": {},
   "source": [
    "#### 1E - Modeling"
   ]
  },
  {
   "cell_type": "code",
   "execution_count": 24,
   "id": "6f2e067d-df54-48d9-88ff-b0bd7fd94839",
   "metadata": {},
   "outputs": [],
   "source": [
    "data_distance = dd.read_csv('data/Trips_by_Distance.csv', assume_missing=True, dtype={'County Name': 'object', 'State Postal Code': 'object'})\n",
    "#subset data for use\n",
    "selected_columns = [\n",
    "        'Population Not Staying at Home',\n",
    "        'Number of Trips <1', 'Number of Trips 1-3', 'Number of Trips 3-5',\n",
    "        'Number of Trips 5-10', 'Number of Trips 10-25',\n",
    "        'Number of Trips 25-50', 'Number of Trips 50-100',\n",
    "        'Number of Trips 100-250', 'Number of Trips 250-500',\n",
    "        'Number of Trips >=500', 'Week'\n",
    "    ]\n",
    "\n",
    "data_selected = data_distance[selected_columns]"
   ]
  },
  {
   "cell_type": "code",
   "execution_count": 25,
   "id": "e7036a03-2239-4d78-b1b4-6a4e9c817498",
   "metadata": {},
   "outputs": [],
   "source": [
    "###test for linearity\n",
    "# Compute Pearson correlation coefficients\n",
    "correlation_y_x = data_selected.corr(method='pearson').compute()"
   ]
  },
  {
   "cell_type": "code",
   "execution_count": 26,
   "id": "c4106d1d-67e4-4788-9751-78d921d82b47",
   "metadata": {},
   "outputs": [
    {
     "data": {
      "image/png": "[encoded data removed]",
      "text/plain": [
       "<Figure size 1000x800 with 2 Axes>"
      ]
     },
     "metadata": {},
     "output_type": "display_data"
    }
   ],
   "source": [
    "#heatmap for the correlation matrix\n",
    "plt.figure(figsize=(10, 8))\n",
    "sns.heatmap(correlation_y_x, annot=True, cmap='coolwarm', fmt=\".2f\", linewidths=0.5)\n",
    "plt.title('Pearson Correlation Coefficients - Linearity Test')\n",
    "plt.show()"
   ]
  },
  {
   "cell_type": "markdown",
   "id": "c5107faa-2642-4093-8ba3-b7730eaf6b1d",
   "metadata": {},
   "source": [
    "> Since all the variables _'Number of Trips <1',\n",
    "       'Number of Trips 1-3', 'Number of Trips 3-5', 'Number of Trips 5-10',\n",
    "       'Number of Trips 10-25', 'Number of Trips 25-50',\n",
    "       'Number of Trips 50-100', 'Number of Trips 100-250',\n",
    "       'Number of Trips 250-500', 'Number of Trips >=500'_ are highly correlated with each other and with Population Not Staying at Home ( target variable), this will present the problem of multicollinearity if all variables are used in the model. Therefore only the variable \"Number of Trips 50-100\" which has the highes correlation is used along side week number as predictors."
   ]
  },
  {
   "cell_type": "code",
   "execution_count": 27,
   "id": "c47c31fd-9878-4324-ad31-b4ab326e5870",
   "metadata": {},
   "outputs": [
    {
     "name": "stdout",
     "output_type": "stream",
     "text": [
      "X Shape: (1035625, 2)\n",
      "\n",
      "y Shape: (1035625,)\n",
      "CPU times: total: 6.62 s\n",
      "Wall time: 11.4 s\n"
     ]
    }
   ],
   "source": [
    "%%time\n",
    "#get the variables to use\n",
    "vars = ['Population Not Staying at Home', 'Number of Trips 50-100', 'Week']\n",
    "#subset\n",
    "datax = data_selected[vars]\n",
    "#drop nan\n",
    "datax = datax.dropna().compute()\n",
    "#get x\n",
    "X = datax[['Number of Trips 50-100', 'Week']]\n",
    "#get y \n",
    "y = datax['Population Not Staying at Home']\n",
    "print(\"X Shape:\", X.shape)\n",
    "print(\"\\ny Shape:\", y.shape)\n",
    "#obtain x and y values\n",
    "dask_x = X.values\n",
    "dask_y = y.values"
   ]
  },
  {
   "cell_type": "code",
   "execution_count": 28,
   "id": "eefe3e8b-16ea-4479-9fd9-711e3cd1e361",
   "metadata": {},
   "outputs": [
    {
     "name": "stdout",
     "output_type": "stream",
     "text": [
      "R-Squared: 0.9783\n",
      "RMSE: 1139104.8422\n"
     ]
    }
   ],
   "source": [
    "# Split the data into training and testing sets (70:30 ratio)\n",
    "X_train, X_test, y_train, y_test = train_test_split(dask_x, dask_y, test_size=0.3, random_state=42, shuffle = True)\n",
    "#fit model\n",
    "lr = LinearRegression(fit_intercept=True)\n",
    "lr.fit(X_train, y_train)\n",
    "#make predictions on test data\n",
    "y_pred = lr.predict(X_test)\n",
    "#evaluate the model\n",
    "# Evaluate R-squared and RMSE\n",
    "r_squared = round(r2_score(y_test, y_pred), 4)\n",
    "rmse = round(mean_squared_error(y_test, y_pred, squared=False), 4)\n",
    "print(\"R-Squared:\", r_squared)\n",
    "print(\"RMSE:\", rmse)"
   ]
  },
  {
   "cell_type": "markdown",
   "id": "3db79b76-cea2-400f-99d9-d222c55abc5e",
   "metadata": {},
   "source": [
    "##### Increase Training Size"
   ]
  },
  {
   "cell_type": "code",
   "execution_count": 29,
   "id": "01d5d8e7-98aa-4933-a06f-1fd2387587ae",
   "metadata": {},
   "outputs": [
    {
     "name": "stdout",
     "output_type": "stream",
     "text": [
      "R-Squared: 0.9754\n",
      "RMSE: 1201830.882\n"
     ]
    }
   ],
   "source": [
    "# Split the data into training and testing sets (70:30 ratio)\n",
    "X_train, X_test, y_train, y_test = train_test_split(dask_x, dask_y, test_size=0.1, random_state=42, shuffle = True)\n",
    "#fit model\n",
    "lr = LinearRegression(fit_intercept=True)\n",
    "lr.fit(X_train, y_train)\n",
    "#make predictions on test data\n",
    "y_pred = lr.predict(X_test)\n",
    "#evaluate the model\n",
    "# Evaluate R-squared and RMSE\n",
    "r_squared1 = round(r2_score(y_test, y_pred), 4)\n",
    "rmse1 = round(mean_squared_error(y_test, y_pred, squared=False), 4)\n",
    "print(\"R-Squared:\", r_squared1)\n",
    "print(\"RMSE:\", rmse1)"
   ]
  },
  {
   "cell_type": "code",
   "execution_count": null,
   "id": "aaed39b0-e30e-4fc3-8545-a74738f7fb0f",
   "metadata": {},
   "outputs": [],
   "source": []
  },
  {
   "cell_type": "code",
   "execution_count": 30,
   "id": "24debbaf-c8b3-4bed-aa1e-de63504bc3c3",
   "metadata": {},
   "outputs": [
    {
     "name": "stdout",
     "output_type": "stream",
     "text": [
      "R-Squared: 0.9759\n",
      "RMSE: 1192543.3382\n"
     ]
    }
   ],
   "source": [
    "# Split the data into training and testing sets (70:30 ratio)\n",
    "X_train, X_test, y_train, y_test = train_test_split(dask_x, dask_y, test_size=0.2, random_state=42, shuffle = True)\n",
    "#fit model\n",
    "lr = LinearRegression(fit_intercept=True)\n",
    "lr.fit(X_train, y_train)\n",
    "#make predictions on test data\n",
    "y_pred = lr.predict(X_test)\n",
    "#evaluate the model\n",
    "# Evaluate R-squared and RMSE\n",
    "r_squared2 = round(r2_score(y_test, y_pred), 4)\n",
    "rmse2 = round(mean_squared_error(y_test, y_pred, squared=False), 4)\n",
    "print(\"R-Squared:\", r_squared2)\n",
    "print(\"RMSE:\", rmse2)"
   ]
  },
  {
   "cell_type": "markdown",
   "id": "ecb17076-eebd-43a1-8cc8-6a282d7bf24a",
   "metadata": {},
   "source": [
    "##### Reduce the training size"
   ]
  },
  {
   "cell_type": "code",
   "execution_count": 31,
   "id": "2e030a27-72fd-44cc-b2c6-5b2ad06024f9",
   "metadata": {},
   "outputs": [
    {
     "name": "stdout",
     "output_type": "stream",
     "text": [
      "R-Squared: 0.9783\n",
      "RMSE: 1114474.4401\n"
     ]
    }
   ],
   "source": [
    "# Split the data into training and testing sets (70:30 ratio)\n",
    "X_train, X_test, y_train, y_test = train_test_split(dask_x, dask_y, test_size=0.4, random_state=42, shuffle = True)\n",
    "#fit model\n",
    "lr = LinearRegression(fit_intercept=True)\n",
    "lr.fit(X_train, y_train)\n",
    "#make predictions on test data\n",
    "y_pred = lr.predict(X_test)\n",
    "#evaluate the model\n",
    "# Evaluate R-squared and RMSE\n",
    "r_squared3 = round(r2_score(y_test, y_pred), 4)\n",
    "rmse3 = round(mean_squared_error(y_test, y_pred, squared=False), 4)\n",
    "print(\"R-Squared:\", r_squared3)\n",
    "print(\"RMSE:\", rmse3)"
   ]
  },
  {
   "cell_type": "markdown",
   "id": "7ac15112-82c3-4f29-9615-7dc5dc166fda",
   "metadata": {},
   "source": [
    "##### Plot actual vs predicted"
   ]
  },
  {
   "cell_type": "code",
   "execution_count": 32,
   "id": "99c2f3a0-989f-4ab5-a49e-787a501e8376",
   "metadata": {},
   "outputs": [
    {
     "data": {
      "image/png": "[encoded data removed]",
      "text/plain": [
       "<Figure size 640x480 with 1 Axes>"
      ]
     },
     "metadata": {},
     "output_type": "display_data"
    }
   ],
   "source": [
    "# Convert Dask DataFrames to Pandas DataFrames for plotting\n",
    "y_test_pd = y_test\n",
    "y_pred_pd = y_pred\n",
    "\n",
    "# Plot actual vs. predicted values\n",
    "plt.scatter(y_test_pd, y_pred_pd, alpha=0.5)\n",
    "plt.title('Actual vs. Predicted Values')\n",
    "plt.xlabel('Actual Values')\n",
    "plt.ylabel('Predicted Values')\n",
    "plt.grid()\n",
    "plt.show()"
   ]
  },
  {
   "cell_type": "markdown",
   "id": "e75f0135-5b2e-4cc5-834a-536bebbbb712",
   "metadata": {},
   "source": [
    "##### Compare performance by data size"
   ]
  },
  {
   "cell_type": "code",
   "execution_count": 33,
   "id": "491f5a78-060f-47ba-8905-0b5ba8190076",
   "metadata": {},
   "outputs": [
    {
     "data": {
      "text/html": [
       "<div>\n",
       "<style scoped>\n",
       "    .dataframe tbody tr th:only-of-type {\n",
       "        vertical-align: middle;\n",
       "    }\n",
       "\n",
       "    .dataframe tbody tr th {\n",
       "        vertical-align: top;\n",
       "    }\n",
       "\n",
       "    .dataframe thead th {\n",
       "        text-align: right;\n",
       "    }\n",
       "</style>\n",
       "<table border=\"1\" class=\"dataframe\">\n",
       "  <thead>\n",
       "    <tr style=\"text-align: right;\">\n",
       "      <th></th>\n",
       "      <th>Data Size</th>\n",
       "      <th>R-Squared</th>\n",
       "      <th>RMSE</th>\n",
       "    </tr>\n",
       "  </thead>\n",
       "  <tbody>\n",
       "    <tr>\n",
       "      <th>3</th>\n",
       "      <td>90%</td>\n",
       "      <td>0.9783</td>\n",
       "      <td>1114474.44</td>\n",
       "    </tr>\n",
       "    <tr>\n",
       "      <th>0</th>\n",
       "      <td>60%</td>\n",
       "      <td>0.9783</td>\n",
       "      <td>1139104.84</td>\n",
       "    </tr>\n",
       "    <tr>\n",
       "      <th>2</th>\n",
       "      <td>80%</td>\n",
       "      <td>0.9759</td>\n",
       "      <td>1192543.34</td>\n",
       "    </tr>\n",
       "    <tr>\n",
       "      <th>1</th>\n",
       "      <td>70%</td>\n",
       "      <td>0.9754</td>\n",
       "      <td>1201830.88</td>\n",
       "    </tr>\n",
       "  </tbody>\n",
       "</table>\n",
       "</div>"
      ],
      "text/plain": [
       "  Data Size  R-Squared        RMSE\n",
       "3       90%     0.9783  1114474.44\n",
       "0       60%     0.9783  1139104.84\n",
       "2       80%     0.9759  1192543.34\n",
       "1       70%     0.9754  1201830.88"
      ]
     },
     "execution_count": 33,
     "metadata": {},
     "output_type": "execute_result"
    }
   ],
   "source": [
    "#data size\n",
    "data_size = ['60%', '70%', '80%','90%']\n",
    "r_squareds = [r_squared, r_squared1, r_squared2, r_squared3]\n",
    "#rmses\n",
    "rmses = [rmse, rmse1, rmse2, rmse3]\n",
    "#dataframe\n",
    "df = pd.DataFrame({\n",
    "    'Data Size': data_size,\n",
    "    'R-Squared': r_squareds,\n",
    "    'RMSE': [round(item, 2) for item in rmses]\n",
    "})\n",
    "\n",
    "# Sort DataFrame by RMSE\n",
    "df.sort_values(by='RMSE')"
   ]
  },
  {
   "cell_type": "code",
   "execution_count": 34,
   "id": "9bfe4adc-1ff4-493d-adf9-fc849901bd57",
   "metadata": {},
   "outputs": [],
   "source": [
    "#df.sort_values(by='RMSE').to_csv(\"performance.csv\", index = False)"
   ]
  },
  {
   "cell_type": "markdown",
   "id": "c05b72fd-8c88-4824-9642-9c07d5afcd59",
   "metadata": {},
   "source": [
    "#### 1F - Visualization"
   ]
  },
  {
   "cell_type": "code",
   "execution_count": 35,
   "id": "769b1a96-caf4-48df-9751-a15cd1001e9a",
   "metadata": {},
   "outputs": [
    {
     "data": {
      "text/plain": [
       "Month of Date                 0\n",
       "Week of Date                  0\n",
       "Year of Date                  0\n",
       "Level                         0\n",
       "Date                          0\n",
       "Week Ending Date              0\n",
       "Trips <1 Mile                 0\n",
       "People Not Staying at Home    0\n",
       "Population Staying at Home    0\n",
       "Trips                         0\n",
       "Trips 1-25 Miles              0\n",
       "Trips 1-3 Miles               0\n",
       "Trips 10-25 Miles             0\n",
       "Trips 100-250 Miles           0\n",
       "Trips 100+ Miles              0\n",
       "Trips 25-100 Miles            0\n",
       "Trips 25-50 Miles             0\n",
       "Trips 250-500 Miles           0\n",
       "Trips 3-5 Miles               0\n",
       "Trips 5-10 Miles              0\n",
       "Trips 50-100 Miles            0\n",
       "Trips 500+ Miles              0\n",
       "dtype: int64"
      ]
     },
     "execution_count": 35,
     "metadata": {},
     "output_type": "execute_result"
    }
   ],
   "source": [
    "#read and process data\n",
    "full_data, time_taken = read_data(\"data/Trips_Full Data.csv\")\n",
    "#confirm data is processed with no missing values\n",
    "missing_full = full_data.isnull().sum().compute()\n",
    "missing_full"
   ]
  },
  {
   "cell_type": "markdown",
   "id": "b294f77a-8fcc-4132-88c1-72056e140fe2",
   "metadata": {},
   "source": [
    "##### Visualize to check for distribution"
   ]
  },
  {
   "cell_type": "code",
   "execution_count": null,
   "id": "4ca40446-838b-422c-aa56-0a1bbc66cde8",
   "metadata": {},
   "outputs": [],
   "source": [
    "boxplot_variables = ['People Not Staying at Home', 'Population Staying at Home',\n",
    "                       ]\n",
    "\n",
    "# Select the desired variables for the box plots\n",
    "boxplot_data = full_data.compute()[boxplot_variables]\n",
    "\n",
    "# Melt the DataFrame to create long-form data suitable for box plots\n",
    "melted_data = pd.melt(boxplot_data, var_name='Variable', value_name='Value')\n",
    "\n",
    "# Create box plots using Plotly Express\n",
    "fig = px.box(melted_data, x='Variable', y='Value', points=\"all\", title='Box Plots for Trip-related Variables')\n",
    "\n",
    "# Update layout for better visualization\n",
    "fig.update_layout(xaxis_title='Variable', yaxis_title='Value')\n",
    "\n",
    "# Show the figure\n",
    "fig.show()"
   ]
  },
  {
   "cell_type": "code",
   "execution_count": 37,
   "id": "b32f080f-52d8-4cff-b511-508b91661ab5",
   "metadata": {},
   "outputs": [
    {
     "data": {
      "application/vnd.plotly.v1+json": {
       "config": {
        "plotlyServerURL": "https://plot.ly"
       },
       "data": [
        {
         "hovertemplate": "Date=%{x}<br>Trips <1 Mile=%{y}<extra></extra>",
         "legendgroup": "",
         "line": {
          "color": "#636efa",
          "dash": "solid"
         },
         "marker": {
          "symbol": "circle"
         },
         "mode": "lines",
         "name": "",
         "orientation": "v",
         "showlegend": false,
         "type": "scatter",
         "x": [
          "8/4/2019 0:00",
          "8/5/2019 0:00",
          "8/6/2019 0:00",
          "8/7/2019 0:00",
          "8/8/2019 0:00",
          "8/9/2019 0:00",
          "8/10/2019 0:00"
         ],
         "xaxis": "x",
         "y": [
          292959749,
          317133861,
          324443205,
          358483024,
          300765870,
          341515854,
          346532975
         ],
         "yaxis": "y"
        }
       ],
       "layout": {
        "autosize": true,
        "legend": {
         "tracegroupgap": 0
        },
        "template": {
         "data": {
          "bar": [
           {
            "error_x": {
             "color": "#2a3f5f"
            },
            "error_y": {
             "color": "#2a3f5f"
            },
            "marker": {
             "line": {
              "color": "#E5ECF6",
              "width": 0.5
             },
             "pattern": {
              "fillmode": "overlay",
              "size": 10,
              "solidity": 0.2
             }
            },
            "type": "bar"
           }
          ],
          "barpolar": [
           {
            "marker": {
             "line": {
              "color": "#E5ECF6",
              "width": 0.5
             },
             "pattern": {
              "fillmode": "overlay",
              "size": 10,
              "solidity": 0.2
             }
            },
            "type": "barpolar"
           }
          ],
          "carpet": [
           {
            "aaxis": {
             "endlinecolor": "#2a3f5f",
             "gridcolor": "white",
             "linecolor": "white",
             "minorgridcolor": "white",
             "startlinecolor": "#2a3f5f"
            },
            "baxis": {
             "endlinecolor": "#2a3f5f",
             "gridcolor": "white",
             "linecolor": "white",
             "minorgridcolor": "white",
             "startlinecolor": "#2a3f5f"
            },
            "type": "carpet"
           }
          ],
          "choropleth": [
           {
            "colorbar": {
             "outlinewidth": 0,
             "ticks": ""
            },
            "type": "choropleth"
           }
          ],
          "contour": [
           {
            "colorbar": {
             "outlinewidth": 0,
             "ticks": ""
            },
            "colorscale": [
             [
              0,
              "#0d0887"
             ],
             [
              0.1111111111111111,
              "#46039f"
             ],
             [
              0.2222222222222222,
              "#7201a8"
             ],
             [
              0.3333333333333333,
              "#9c179e"
             ],
             [
              0.4444444444444444,
              "#bd3786"
             ],
             [
              0.5555555555555556,
              "#d8576b"
             ],
             [
              0.6666666666666666,
              "#ed7953"
             ],
             [
              0.7777777777777778,
              "#fb9f3a"
             ],
             [
              0.8888888888888888,
              "#fdca26"
             ],
             [
              1,
              "#f0f921"
             ]
            ],
            "type": "contour"
           }
          ],
          "contourcarpet": [
           {
            "colorbar": {
             "outlinewidth": 0,
             "ticks": ""
            },
            "type": "contourcarpet"
           }
          ],
          "heatmap": [
           {
            "colorbar": {
             "outlinewidth": 0,
             "ticks": ""
            },
            "colorscale": [
             [
              0,
              "#0d0887"
             ],
             [
              0.1111111111111111,
              "#46039f"
             ],
             [
              0.2222222222222222,
              "#7201a8"
             ],
             [
              0.3333333333333333,
              "#9c179e"
             ],
             [
              0.4444444444444444,
              "#bd3786"
             ],
             [
              0.5555555555555556,
              "#d8576b"
             ],
             [
              0.6666666666666666,
              "#ed7953"
             ],
             [
              0.7777777777777778,
              "#fb9f3a"
             ],
             [
              0.8888888888888888,
              "#fdca26"
             ],
             [
              1,
              "#f0f921"
             ]
            ],
            "type": "heatmap"
           }
          ],
          "heatmapgl": [
           {
            "colorbar": {
             "outlinewidth": 0,
             "ticks": ""
            },
            "colorscale": [
             [
              0,
              "#0d0887"
             ],
             [
              0.1111111111111111,
              "#46039f"
             ],
             [
              0.2222222222222222,
              "#7201a8"
             ],
             [
              0.3333333333333333,
              "#9c179e"
             ],
             [
              0.4444444444444444,
              "#bd3786"
             ],
             [
              0.5555555555555556,
              "#d8576b"
             ],
             [
              0.6666666666666666,
              "#ed7953"
             ],
             [
              0.7777777777777778,
              "#fb9f3a"
             ],
             [
              0.8888888888888888,
              "#fdca26"
             ],
             [
              1,
              "#f0f921"
             ]
            ],
            "type": "heatmapgl"
           }
          ],
          "histogram": [
           {
            "marker": {
             "pattern": {
              "fillmode": "overlay",
              "size": 10,
              "solidity": 0.2
             }
            },
            "type": "histogram"
           }
          ],
          "histogram2d": [
           {
            "colorbar": {
             "outlinewidth": 0,
             "ticks": ""
            },
            "colorscale": [
             [
              0,
              "#0d0887"
             ],
             [
              0.1111111111111111,
              "#46039f"
             ],
             [
              0.2222222222222222,
              "#7201a8"
             ],
             [
              0.3333333333333333,
              "#9c179e"
             ],
             [
              0.4444444444444444,
              "#bd3786"
             ],
             [
              0.5555555555555556,
              "#d8576b"
             ],
             [
              0.6666666666666666,
              "#ed7953"
             ],
             [
              0.7777777777777778,
              "#fb9f3a"
             ],
             [
              0.8888888888888888,
              "#fdca26"
             ],
             [
              1,
              "#f0f921"
             ]
            ],
            "type": "histogram2d"
           }
          ],
          "histogram2dcontour": [
           {
            "colorbar": {
             "outlinewidth": 0,
             "ticks": ""
            },
            "colorscale": [
             [
              0,
              "#0d0887"
             ],
             [
              0.1111111111111111,
              "#46039f"
             ],
             [
              0.2222222222222222,
              "#7201a8"
             ],
             [
              0.3333333333333333,
              "#9c179e"
             ],
             [
              0.4444444444444444,
              "#bd3786"
             ],
             [
              0.5555555555555556,
              "#d8576b"
             ],
             [
              0.6666666666666666,
              "#ed7953"
             ],
             [
              0.7777777777777778,
              "#fb9f3a"
             ],
             [
              0.8888888888888888,
              "#fdca26"
             ],
             [
              1,
              "#f0f921"
             ]
            ],
            "type": "histogram2dcontour"
           }
          ],
          "mesh3d": [
           {
            "colorbar": {
             "outlinewidth": 0,
             "ticks": ""
            },
            "type": "mesh3d"
           }
          ],
          "parcoords": [
           {
            "line": {
             "colorbar": {
              "outlinewidth": 0,
              "ticks": ""
             }
            },
            "type": "parcoords"
           }
          ],
          "pie": [
           {
            "automargin": true,
            "type": "pie"
           }
          ],
          "scatter": [
           {
            "fillpattern": {
             "fillmode": "overlay",
             "size": 10,
             "solidity": 0.2
            },
            "type": "scatter"
           }
          ],
          "scatter3d": [
           {
            "line": {
             "colorbar": {
              "outlinewidth": 0,
              "ticks": ""
             }
            },
            "marker": {
             "colorbar": {
              "outlinewidth": 0,
              "ticks": ""
             }
            },
            "type": "scatter3d"
           }
          ],
          "scattercarpet": [
           {
            "marker": {
             "colorbar": {
              "outlinewidth": 0,
              "ticks": ""
             }
            },
            "type": "scattercarpet"
           }
          ],
          "scattergeo": [
           {
            "marker": {
             "colorbar": {
              "outlinewidth": 0,
              "ticks": ""
             }
            },
            "type": "scattergeo"
           }
          ],
          "scattergl": [
           {
            "marker": {
             "colorbar": {
              "outlinewidth": 0,
              "ticks": ""
             }
            },
            "type": "scattergl"
           }
          ],
          "scattermapbox": [
           {
            "marker": {
             "colorbar": {
              "outlinewidth": 0,
              "ticks": ""
             }
            },
            "type": "scattermapbox"
           }
          ],
          "scatterpolar": [
           {
            "marker": {
             "colorbar": {
              "outlinewidth": 0,
              "ticks": ""
             }
            },
            "type": "scatterpolar"
           }
          ],
          "scatterpolargl": [
           {
            "marker": {
             "colorbar": {
              "outlinewidth": 0,
              "ticks": ""
             }
            },
            "type": "scatterpolargl"
           }
          ],
          "scatterternary": [
           {
            "marker": {
             "colorbar": {
              "outlinewidth": 0,
              "ticks": ""
             }
            },
            "type": "scatterternary"
           }
          ],
          "surface": [
           {
            "colorbar": {
             "outlinewidth": 0,
             "ticks": ""
            },
            "colorscale": [
             [
              0,
              "#0d0887"
             ],
             [
              0.1111111111111111,
              "#46039f"
             ],
             [
              0.2222222222222222,
              "#7201a8"
             ],
             [
              0.3333333333333333,
              "#9c179e"
             ],
             [
              0.4444444444444444,
              "#bd3786"
             ],
             [
              0.5555555555555556,
              "#d8576b"
             ],
             [
              0.6666666666666666,
              "#ed7953"
             ],
             [
              0.7777777777777778,
              "#fb9f3a"
             ],
             [
              0.8888888888888888,
              "#fdca26"
             ],
             [
              1,
              "#f0f921"
             ]
            ],
            "type": "surface"
           }
          ],
          "table": [
           {
            "cells": {
             "fill": {
              "color": "#EBF0F8"
             },
             "line": {
              "color": "white"
             }
            },
            "header": {
             "fill": {
              "color": "#C8D4E3"
             },
             "line": {
              "color": "white"
             }
            },
            "type": "table"
           }
          ]
         },
         "layout": {
          "annotationdefaults": {
           "arrowcolor": "#2a3f5f",
           "arrowhead": 0,
           "arrowwidth": 1
          },
          "autotypenumbers": "strict",
          "coloraxis": {
           "colorbar": {
            "outlinewidth": 0,
            "ticks": ""
           }
          },
          "colorscale": {
           "diverging": [
            [
             0,
             "#8e0152"
            ],
            [
             0.1,
             "#c51b7d"
            ],
            [
             0.2,
             "#de77ae"
            ],
            [
             0.3,
             "#f1b6da"
            ],
            [
             0.4,
             "#fde0ef"
            ],
            [
             0.5,
             "#f7f7f7"
            ],
            [
             0.6,
             "#e6f5d0"
            ],
            [
             0.7,
             "#b8e186"
            ],
            [
             0.8,
             "#7fbc41"
            ],
            [
             0.9,
             "#4d9221"
            ],
            [
             1,
             "#276419"
            ]
           ],
           "sequential": [
            [
             0,
             "#0d0887"
            ],
            [
             0.1111111111111111,
             "#46039f"
            ],
            [
             0.2222222222222222,
             "#7201a8"
            ],
            [
             0.3333333333333333,
             "#9c179e"
            ],
            [
             0.4444444444444444,
             "#bd3786"
            ],
            [
             0.5555555555555556,
             "#d8576b"
            ],
            [
             0.6666666666666666,
             "#ed7953"
            ],
            [
             0.7777777777777778,
             "#fb9f3a"
            ],
            [
             0.8888888888888888,
             "#fdca26"
            ],
            [
             1,
             "#f0f921"
            ]
           ],
           "sequentialminus": [
            [
             0,
             "#0d0887"
            ],
            [
             0.1111111111111111,
             "#46039f"
            ],
            [
             0.2222222222222222,
             "#7201a8"
            ],
            [
             0.3333333333333333,
             "#9c179e"
            ],
            [
             0.4444444444444444,
             "#bd3786"
            ],
            [
             0.5555555555555556,
             "#d8576b"
            ],
            [
             0.6666666666666666,
             "#ed7953"
            ],
            [
             0.7777777777777778,
             "#fb9f3a"
            ],
            [
             0.8888888888888888,
             "#fdca26"
            ],
            [
             1,
             "#f0f921"
            ]
           ]
          },
          "colorway": [
           "#636efa",
           "#EF553B",
           "#00cc96",
           "#ab63fa",
           "#FFA15A",
           "#19d3f3",
           "#FF6692",
           "#B6E880",
           "#FF97FF",
           "#FECB52"
          ],
          "font": {
           "color": "#2a3f5f"
          },
          "geo": {
           "bgcolor": "white",
           "lakecolor": "white",
           "landcolor": "#E5ECF6",
           "showlakes": true,
           "showland": true,
           "subunitcolor": "white"
          },
          "hoverlabel": {
           "align": "left"
          },
          "hovermode": "closest",
          "mapbox": {
           "style": "light"
          },
          "paper_bgcolor": "white",
          "plot_bgcolor": "#E5ECF6",
          "polar": {
           "angularaxis": {
            "gridcolor": "white",
            "linecolor": "white",
            "ticks": ""
           },
           "bgcolor": "#E5ECF6",
           "radialaxis": {
            "gridcolor": "white",
            "linecolor": "white",
            "ticks": ""
           }
          },
          "scene": {
           "xaxis": {
            "backgroundcolor": "#E5ECF6",
            "gridcolor": "white",
            "gridwidth": 2,
            "linecolor": "white",
            "showbackground": true,
            "ticks": "",
            "zerolinecolor": "white"
           },
           "yaxis": {
            "backgroundcolor": "#E5ECF6",
            "gridcolor": "white",
            "gridwidth": 2,
            "linecolor": "white",
            "showbackground": true,
            "ticks": "",
            "zerolinecolor": "white"
           },
           "zaxis": {
            "backgroundcolor": "#E5ECF6",
            "gridcolor": "white",
            "gridwidth": 2,
            "linecolor": "white",
            "showbackground": true,
            "ticks": "",
            "zerolinecolor": "white"
           }
          },
          "shapedefaults": {
           "line": {
            "color": "#2a3f5f"
           }
          },
          "ternary": {
           "aaxis": {
            "gridcolor": "white",
            "linecolor": "white",
            "ticks": ""
           },
           "baxis": {
            "gridcolor": "white",
            "linecolor": "white",
            "ticks": ""
           },
           "bgcolor": "#E5ECF6",
           "caxis": {
            "gridcolor": "white",
            "linecolor": "white",
            "ticks": ""
           }
          },
          "title": {
           "x": 0.05
          },
          "xaxis": {
           "automargin": true,
           "gridcolor": "white",
           "linecolor": "white",
           "ticks": "",
           "title": {
            "standoff": 15
           },
           "zerolinecolor": "white",
           "zerolinewidth": 2
          },
          "yaxis": {
           "automargin": true,
           "gridcolor": "white",
           "linecolor": "white",
           "ticks": "",
           "title": {
            "standoff": 15
           },
           "zerolinecolor": "white",
           "zerolinewidth": 2
          }
         }
        },
        "title": {
         "text": "Number of participants making trips with < Mile Over Time"
        },
        "xaxis": {
         "anchor": "y",
         "autorange": true,
         "domain": [
          0,
          1
         ],
         "range": [
          0,
          6
         ],
         "title": {
          "text": "Date"
         },
         "type": "category"
        },
        "yaxis": {
         "anchor": "x",
         "autorange": true,
         "domain": [
          0,
          1
         ],
         "range": [
          289319567.0555556,
          362123205.9444444
         ],
         "title": {
          "text": "Trips"
         },
         "type": "linear"
        }
       }
      },
      "image/png": "[encoded data removed]",
      "text/html": [
       "<div>                            <div id=\"ad0a6d52-e58d-46e0-bd6f-d27fc5fad3b5\" class=\"plotly-graph-div\" style=\"height:525px; width:100%;\"></div>            <script type=\"text/javascript\">                require([\"plotly\"], function(Plotly) {                    window.PLOTLYENV=window.PLOTLYENV || {};                                    if (document.getElementById(\"ad0a6d52-e58d-46e0-bd6f-d27fc5fad3b5\")) {                    Plotly.newPlot(                        \"ad0a6d52-e58d-46e0-bd6f-d27fc5fad3b5\",                        [{\"hovertemplate\":\"Date=%{x}\\u003cbr\\u003eTrips \\u003c1 Mile=%{y}\\u003cextra\\u003e\\u003c\\u002fextra\\u003e\",\"legendgroup\":\"\",\"line\":{\"color\":\"#636efa\",\"dash\":\"solid\"},\"marker\":{\"symbol\":\"circle\"},\"mode\":\"lines\",\"name\":\"\",\"orientation\":\"v\",\"showlegend\":false,\"x\":[\"8\\u002f4\\u002f2019 0:00\",\"8\\u002f5\\u002f2019 0:00\",\"8\\u002f6\\u002f2019 0:00\",\"8\\u002f7\\u002f2019 0:00\",\"8\\u002f8\\u002f2019 0:00\",\"8\\u002f9\\u002f2019 0:00\",\"8\\u002f10\\u002f2019 0:00\"],\"xaxis\":\"x\",\"y\":[292959749,317133861,324443205,358483024,300765870,341515854,346532975],\"yaxis\":\"y\",\"type\":\"scatter\"}],                        {\"template\":{\"data\":{\"histogram2dcontour\":[{\"type\":\"histogram2dcontour\",\"colorbar\":{\"outlinewidth\":0,\"ticks\":\"\"},\"colorscale\":[[0.0,\"#0d0887\"],[0.1111111111111111,\"#46039f\"],[0.2222222222222222,\"#7201a8\"],[0.3333333333333333,\"#9c179e\"],[0.4444444444444444,\"#bd3786\"],[0.5555555555555556,\"#d8576b\"],[0.6666666666666666,\"#ed7953\"],[0.7777777777777778,\"#fb9f3a\"],[0.8888888888888888,\"#fdca26\"],[1.0,\"#f0f921\"]]}],\"choropleth\":[{\"type\":\"choropleth\",\"colorbar\":{\"outlinewidth\":0,\"ticks\":\"\"}}],\"histogram2d\":[{\"type\":\"histogram2d\",\"colorbar\":{\"outlinewidth\":0,\"ticks\":\"\"},\"colorscale\":[[0.0,\"#0d0887\"],[0.1111111111111111,\"#46039f\"],[0.2222222222222222,\"#7201a8\"],[0.3333333333333333,\"#9c179e\"],[0.4444444444444444,\"#bd3786\"],[0.5555555555555556,\"#d8576b\"],[0.6666666666666666,\"#ed7953\"],[0.7777777777777778,\"#fb9f3a\"],[0.8888888888888888,\"#fdca26\"],[1.0,\"#f0f921\"]]}],\"heatmap\":[{\"type\":\"heatmap\",\"colorbar\":{\"outlinewidth\":0,\"ticks\":\"\"},\"colorscale\":[[0.0,\"#0d0887\"],[0.1111111111111111,\"#46039f\"],[0.2222222222222222,\"#7201a8\"],[0.3333333333333333,\"#9c179e\"],[0.4444444444444444,\"#bd3786\"],[0.5555555555555556,\"#d8576b\"],[0.6666666666666666,\"#ed7953\"],[0.7777777777777778,\"#fb9f3a\"],[0.8888888888888888,\"#fdca26\"],[1.0,\"#f0f921\"]]}],\"heatmapgl\":[{\"type\":\"heatmapgl\",\"colorbar\":{\"outlinewidth\":0,\"ticks\":\"\"},\"colorscale\":[[0.0,\"#0d0887\"],[0.1111111111111111,\"#46039f\"],[0.2222222222222222,\"#7201a8\"],[0.3333333333333333,\"#9c179e\"],[0.4444444444444444,\"#bd3786\"],[0.5555555555555556,\"#d8576b\"],[0.6666666666666666,\"#ed7953\"],[0.7777777777777778,\"#fb9f3a\"],[0.8888888888888888,\"#fdca26\"],[1.0,\"#f0f921\"]]}],\"contourcarpet\":[{\"type\":\"contourcarpet\",\"colorbar\":{\"outlinewidth\":0,\"ticks\":\"\"}}],\"contour\":[{\"type\":\"contour\",\"colorbar\":{\"outlinewidth\":0,\"ticks\":\"\"},\"colorscale\":[[0.0,\"#0d0887\"],[0.1111111111111111,\"#46039f\"],[0.2222222222222222,\"#7201a8\"],[0.3333333333333333,\"#9c179e\"],[0.4444444444444444,\"#bd3786\"],[0.5555555555555556,\"#d8576b\"],[0.6666666666666666,\"#ed7953\"],[0.7777777777777778,\"#fb9f3a\"],[0.8888888888888888,\"#fdca26\"],[1.0,\"#f0f921\"]]}],\"surface\":[{\"type\":\"surface\",\"colorbar\":{\"outlinewidth\":0,\"ticks\":\"\"},\"colorscale\":[[0.0,\"#0d0887\"],[0.1111111111111111,\"#46039f\"],[0.2222222222222222,\"#7201a8\"],[0.3333333333333333,\"#9c179e\"],[0.4444444444444444,\"#bd3786\"],[0.5555555555555556,\"#d8576b\"],[0.6666666666666666,\"#ed7953\"],[0.7777777777777778,\"#fb9f3a\"],[0.8888888888888888,\"#fdca26\"],[1.0,\"#f0f921\"]]}],\"mesh3d\":[{\"type\":\"mesh3d\",\"colorbar\":{\"outlinewidth\":0,\"ticks\":\"\"}}],\"scatter\":[{\"fillpattern\":{\"fillmode\":\"overlay\",\"size\":10,\"solidity\":0.2},\"type\":\"scatter\"}],\"parcoords\":[{\"type\":\"parcoords\",\"line\":{\"colorbar\":{\"outlinewidth\":0,\"ticks\":\"\"}}}],\"scatterpolargl\":[{\"type\":\"scatterpolargl\",\"marker\":{\"colorbar\":{\"outlinewidth\":0,\"ticks\":\"\"}}}],\"bar\":[{\"error_x\":{\"color\":\"#2a3f5f\"},\"error_y\":{\"color\":\"#2a3f5f\"},\"marker\":{\"line\":{\"color\":\"#E5ECF6\",\"width\":0.5},\"pattern\":{\"fillmode\":\"overlay\",\"size\":10,\"solidity\":0.2}},\"type\":\"bar\"}],\"scattergeo\":[{\"type\":\"scattergeo\",\"marker\":{\"colorbar\":{\"outlinewidth\":0,\"ticks\":\"\"}}}],\"scatterpolar\":[{\"type\":\"scatterpolar\",\"marker\":{\"colorbar\":{\"outlinewidth\":0,\"ticks\":\"\"}}}],\"histogram\":[{\"marker\":{\"pattern\":{\"fillmode\":\"overlay\",\"size\":10,\"solidity\":0.2}},\"type\":\"histogram\"}],\"scattergl\":[{\"type\":\"scattergl\",\"marker\":{\"colorbar\":{\"outlinewidth\":0,\"ticks\":\"\"}}}],\"scatter3d\":[{\"type\":\"scatter3d\",\"line\":{\"colorbar\":{\"outlinewidth\":0,\"ticks\":\"\"}},\"marker\":{\"colorbar\":{\"outlinewidth\":0,\"ticks\":\"\"}}}],\"scattermapbox\":[{\"type\":\"scattermapbox\",\"marker\":{\"colorbar\":{\"outlinewidth\":0,\"ticks\":\"\"}}}],\"scatterternary\":[{\"type\":\"scatterternary\",\"marker\":{\"colorbar\":{\"outlinewidth\":0,\"ticks\":\"\"}}}],\"scattercarpet\":[{\"type\":\"scattercarpet\",\"marker\":{\"colorbar\":{\"outlinewidth\":0,\"ticks\":\"\"}}}],\"carpet\":[{\"aaxis\":{\"endlinecolor\":\"#2a3f5f\",\"gridcolor\":\"white\",\"linecolor\":\"white\",\"minorgridcolor\":\"white\",\"startlinecolor\":\"#2a3f5f\"},\"baxis\":{\"endlinecolor\":\"#2a3f5f\",\"gridcolor\":\"white\",\"linecolor\":\"white\",\"minorgridcolor\":\"white\",\"startlinecolor\":\"#2a3f5f\"},\"type\":\"carpet\"}],\"table\":[{\"cells\":{\"fill\":{\"color\":\"#EBF0F8\"},\"line\":{\"color\":\"white\"}},\"header\":{\"fill\":{\"color\":\"#C8D4E3\"},\"line\":{\"color\":\"white\"}},\"type\":\"table\"}],\"barpolar\":[{\"marker\":{\"line\":{\"color\":\"#E5ECF6\",\"width\":0.5},\"pattern\":{\"fillmode\":\"overlay\",\"size\":10,\"solidity\":0.2}},\"type\":\"barpolar\"}],\"pie\":[{\"automargin\":true,\"type\":\"pie\"}]},\"layout\":{\"autotypenumbers\":\"strict\",\"colorway\":[\"#636efa\",\"#EF553B\",\"#00cc96\",\"#ab63fa\",\"#FFA15A\",\"#19d3f3\",\"#FF6692\",\"#B6E880\",\"#FF97FF\",\"#FECB52\"],\"font\":{\"color\":\"#2a3f5f\"},\"hovermode\":\"closest\",\"hoverlabel\":{\"align\":\"left\"},\"paper_bgcolor\":\"white\",\"plot_bgcolor\":\"#E5ECF6\",\"polar\":{\"bgcolor\":\"#E5ECF6\",\"angularaxis\":{\"gridcolor\":\"white\",\"linecolor\":\"white\",\"ticks\":\"\"},\"radialaxis\":{\"gridcolor\":\"white\",\"linecolor\":\"white\",\"ticks\":\"\"}},\"ternary\":{\"bgcolor\":\"#E5ECF6\",\"aaxis\":{\"gridcolor\":\"white\",\"linecolor\":\"white\",\"ticks\":\"\"},\"baxis\":{\"gridcolor\":\"white\",\"linecolor\":\"white\",\"ticks\":\"\"},\"caxis\":{\"gridcolor\":\"white\",\"linecolor\":\"white\",\"ticks\":\"\"}},\"coloraxis\":{\"colorbar\":{\"outlinewidth\":0,\"ticks\":\"\"}},\"colorscale\":{\"sequential\":[[0.0,\"#0d0887\"],[0.1111111111111111,\"#46039f\"],[0.2222222222222222,\"#7201a8\"],[0.3333333333333333,\"#9c179e\"],[0.4444444444444444,\"#bd3786\"],[0.5555555555555556,\"#d8576b\"],[0.6666666666666666,\"#ed7953\"],[0.7777777777777778,\"#fb9f3a\"],[0.8888888888888888,\"#fdca26\"],[1.0,\"#f0f921\"]],\"sequentialminus\":[[0.0,\"#0d0887\"],[0.1111111111111111,\"#46039f\"],[0.2222222222222222,\"#7201a8\"],[0.3333333333333333,\"#9c179e\"],[0.4444444444444444,\"#bd3786\"],[0.5555555555555556,\"#d8576b\"],[0.6666666666666666,\"#ed7953\"],[0.7777777777777778,\"#fb9f3a\"],[0.8888888888888888,\"#fdca26\"],[1.0,\"#f0f921\"]],\"diverging\":[[0,\"#8e0152\"],[0.1,\"#c51b7d\"],[0.2,\"#de77ae\"],[0.3,\"#f1b6da\"],[0.4,\"#fde0ef\"],[0.5,\"#f7f7f7\"],[0.6,\"#e6f5d0\"],[0.7,\"#b8e186\"],[0.8,\"#7fbc41\"],[0.9,\"#4d9221\"],[1,\"#276419\"]]},\"xaxis\":{\"gridcolor\":\"white\",\"linecolor\":\"white\",\"ticks\":\"\",\"title\":{\"standoff\":15},\"zerolinecolor\":\"white\",\"automargin\":true,\"zerolinewidth\":2},\"yaxis\":{\"gridcolor\":\"white\",\"linecolor\":\"white\",\"ticks\":\"\",\"title\":{\"standoff\":15},\"zerolinecolor\":\"white\",\"automargin\":true,\"zerolinewidth\":2},\"scene\":{\"xaxis\":{\"backgroundcolor\":\"#E5ECF6\",\"gridcolor\":\"white\",\"linecolor\":\"white\",\"showbackground\":true,\"ticks\":\"\",\"zerolinecolor\":\"white\",\"gridwidth\":2},\"yaxis\":{\"backgroundcolor\":\"#E5ECF6\",\"gridcolor\":\"white\",\"linecolor\":\"white\",\"showbackground\":true,\"ticks\":\"\",\"zerolinecolor\":\"white\",\"gridwidth\":2},\"zaxis\":{\"backgroundcolor\":\"#E5ECF6\",\"gridcolor\":\"white\",\"linecolor\":\"white\",\"showbackground\":true,\"ticks\":\"\",\"zerolinecolor\":\"white\",\"gridwidth\":2}},\"shapedefaults\":{\"line\":{\"color\":\"#2a3f5f\"}},\"annotationdefaults\":{\"arrowcolor\":\"#2a3f5f\",\"arrowhead\":0,\"arrowwidth\":1},\"geo\":{\"bgcolor\":\"white\",\"landcolor\":\"#E5ECF6\",\"subunitcolor\":\"white\",\"showland\":true,\"showlakes\":true,\"lakecolor\":\"white\"},\"title\":{\"x\":0.05},\"mapbox\":{\"style\":\"light\"}}},\"xaxis\":{\"anchor\":\"y\",\"domain\":[0.0,1.0],\"title\":{\"text\":\"Date\"}},\"yaxis\":{\"anchor\":\"x\",\"domain\":[0.0,1.0],\"title\":{\"text\":\"Trips\"}},\"legend\":{\"tracegroupgap\":0},\"title\":{\"text\":\"Number of participants making trips with \\u003c Mile Over Time\"}},                        {\"responsive\": true}                    ).then(function(){\n",
       "                            \n",
       "var gd = document.getElementById('ad0a6d52-e58d-46e0-bd6f-d27fc5fad3b5');\n",
       "var x = new MutationObserver(function (mutations, observer) {{\n",
       "        var display = window.getComputedStyle(gd).display;\n",
       "        if (!display || display === 'none') {{\n",
       "            console.log([gd, 'removed!']);\n",
       "            Plotly.purge(gd);\n",
       "            observer.disconnect();\n",
       "        }}\n",
       "}});\n",
       "\n",
       "// Listen for the removal of the full notebook cells\n",
       "var notebookContainer = gd.closest('#notebook-container');\n",
       "if (notebookContainer) {{\n",
       "    x.observe(notebookContainer, {childList: true});\n",
       "}}\n",
       "\n",
       "// Listen for the clearing of the current output cell\n",
       "var outputEl = gd.closest('.output');\n",
       "if (outputEl) {{\n",
       "    x.observe(outputEl, {childList: true});\n",
       "}}\n",
       "\n",
       "                        })                };                });            </script>        </div>"
      ]
     },
     "metadata": {},
     "output_type": "display_data"
    }
   ],
   "source": [
    "fig = px.line(full_data.compute(), x='Date', y='Trips <1 Mile', title='Number of participants making trips with < Mile Over Time')\n",
    "\n",
    "# Update layout for better visualization\n",
    "fig.update_layout(xaxis_title='Date', yaxis_title='Trips')\n",
    "\n",
    "# Display the figure\n",
    "fig.show()"
   ]
  },
  {
   "cell_type": "code",
   "execution_count": 38,
   "id": "35ee85b8-fddc-4712-9d59-21165220b346",
   "metadata": {},
   "outputs": [
    {
     "data": {
      "application/vnd.plotly.v1+json": {
       "config": {
        "plotlyServerURL": "https://plot.ly"
       },
       "data": [
        {
         "alignmentgroup": "True",
         "boxpoints": "all",
         "hovertemplate": "Variable=%{x}<br>Value=%{y}<extra></extra>",
         "legendgroup": "",
         "marker": {
          "color": "#636efa"
         },
         "name": "",
         "notched": false,
         "offsetgroup": "",
         "orientation": "v",
         "showlegend": false,
         "type": "box",
         "x": [
          "Trips <1 Mile",
          "Trips <1 Mile",
          "Trips <1 Mile",
          "Trips <1 Mile",
          "Trips <1 Mile",
          "Trips <1 Mile",
          "Trips <1 Mile",
          "Trips 1-25 Miles",
          "Trips 1-25 Miles",
          "Trips 1-25 Miles",
          "Trips 1-25 Miles",
          "Trips 1-25 Miles",
          "Trips 1-25 Miles",
          "Trips 1-25 Miles",
          "Trips 1-3 Miles",
          "Trips 1-3 Miles",
          "Trips 1-3 Miles",
          "Trips 1-3 Miles",
          "Trips 1-3 Miles",
          "Trips 1-3 Miles",
          "Trips 1-3 Miles",
          "Trips 10-25 Miles",
          "Trips 10-25 Miles",
          "Trips 10-25 Miles",
          "Trips 10-25 Miles",
          "Trips 10-25 Miles",
          "Trips 10-25 Miles",
          "Trips 10-25 Miles",
          "Trips 3-5 Miles",
          "Trips 3-5 Miles",
          "Trips 3-5 Miles",
          "Trips 3-5 Miles",
          "Trips 3-5 Miles",
          "Trips 3-5 Miles",
          "Trips 3-5 Miles",
          "Trips 5-10 Miles",
          "Trips 5-10 Miles",
          "Trips 5-10 Miles",
          "Trips 5-10 Miles",
          "Trips 5-10 Miles",
          "Trips 5-10 Miles",
          "Trips 5-10 Miles",
          "Trips 25-50 Miles",
          "Trips 25-50 Miles",
          "Trips 25-50 Miles",
          "Trips 25-50 Miles",
          "Trips 25-50 Miles",
          "Trips 25-50 Miles",
          "Trips 25-50 Miles"
         ],
         "x0": " ",
         "xaxis": "x",
         "y": [
          292959749,
          317133861,
          324443205,
          358483024,
          300765870,
          341515854,
          346532975,
          934957837,
          996863262,
          1014614495,
          1084498325,
          984193010,
          1052793819,
          1040967509,
          346577279,
          358008909,
          366533991,
          401474049,
          347857770,
          378936486,
          386948113,
          200922270,
          228809869,
          235621127,
          249988663,
          226055368,
          245571995,
          230580285,
          171336406,
          178996059,
          179210645,
          189163336,
          179346163,
          186257669,
          186580557,
          216121882,
          231048425,
          233248732,
          243872277,
          230933709,
          242027669,
          236858554,
          59517188,
          68184743,
          70149166,
          74381367,
          66724543,
          74512584,
          70644329
         ],
         "y0": " ",
         "yaxis": "y"
        }
       ],
       "layout": {
        "autosize": true,
        "boxmode": "group",
        "legend": {
         "tracegroupgap": 0
        },
        "template": {
         "data": {
          "bar": [
           {
            "error_x": {
             "color": "#2a3f5f"
            },
            "error_y": {
             "color": "#2a3f5f"
            },
            "marker": {
             "line": {
              "color": "#E5ECF6",
              "width": 0.5
             },
             "pattern": {
              "fillmode": "overlay",
              "size": 10,
              "solidity": 0.2
             }
            },
            "type": "bar"
           }
          ],
          "barpolar": [
           {
            "marker": {
             "line": {
              "color": "#E5ECF6",
              "width": 0.5
             },
             "pattern": {
              "fillmode": "overlay",
              "size": 10,
              "solidity": 0.2
             }
            },
            "type": "barpolar"
           }
          ],
          "carpet": [
           {
            "aaxis": {
             "endlinecolor": "#2a3f5f",
             "gridcolor": "white",
             "linecolor": "white",
             "minorgridcolor": "white",
             "startlinecolor": "#2a3f5f"
            },
            "baxis": {
             "endlinecolor": "#2a3f5f",
             "gridcolor": "white",
             "linecolor": "white",
             "minorgridcolor": "white",
             "startlinecolor": "#2a3f5f"
            },
            "type": "carpet"
           }
          ],
          "choropleth": [
           {
            "colorbar": {
             "outlinewidth": 0,
             "ticks": ""
            },
            "type": "choropleth"
           }
          ],
          "contour": [
           {
            "colorbar": {
             "outlinewidth": 0,
             "ticks": ""
            },
            "colorscale": [
             [
              0,
              "#0d0887"
             ],
             [
              0.1111111111111111,
              "#46039f"
             ],
             [
              0.2222222222222222,
              "#7201a8"
             ],
             [
              0.3333333333333333,
              "#9c179e"
             ],
             [
              0.4444444444444444,
              "#bd3786"
             ],
             [
              0.5555555555555556,
              "#d8576b"
             ],
             [
              0.6666666666666666,
              "#ed7953"
             ],
             [
              0.7777777777777778,
              "#fb9f3a"
             ],
             [
              0.8888888888888888,
              "#fdca26"
             ],
             [
              1,
              "#f0f921"
             ]
            ],
            "type": "contour"
           }
          ],
          "contourcarpet": [
           {
            "colorbar": {
             "outlinewidth": 0,
             "ticks": ""
            },
            "type": "contourcarpet"
           }
          ],
          "heatmap": [
           {
            "colorbar": {
             "outlinewidth": 0,
             "ticks": ""
            },
            "colorscale": [
             [
              0,
              "#0d0887"
             ],
             [
              0.1111111111111111,
              "#46039f"
             ],
             [
              0.2222222222222222,
              "#7201a8"
             ],
             [
              0.3333333333333333,
              "#9c179e"
             ],
             [
              0.4444444444444444,
              "#bd3786"
             ],
             [
              0.5555555555555556,
              "#d8576b"
             ],
             [
              0.6666666666666666,
              "#ed7953"
             ],
             [
              0.7777777777777778,
              "#fb9f3a"
             ],
             [
              0.8888888888888888,
              "#fdca26"
             ],
             [
              1,
              "#f0f921"
             ]
            ],
            "type": "heatmap"
           }
          ],
          "heatmapgl": [
           {
            "colorbar": {
             "outlinewidth": 0,
             "ticks": ""
            },
            "colorscale": [
             [
              0,
              "#0d0887"
             ],
             [
              0.1111111111111111,
              "#46039f"
             ],
             [
              0.2222222222222222,
              "#7201a8"
             ],
             [
              0.3333333333333333,
              "#9c179e"
             ],
             [
              0.4444444444444444,
              "#bd3786"
             ],
             [
              0.5555555555555556,
              "#d8576b"
             ],
             [
              0.6666666666666666,
              "#ed7953"
             ],
             [
              0.7777777777777778,
              "#fb9f3a"
             ],
             [
              0.8888888888888888,
              "#fdca26"
             ],
             [
              1,
              "#f0f921"
             ]
            ],
            "type": "heatmapgl"
           }
          ],
          "histogram": [
           {
            "marker": {
             "pattern": {
              "fillmode": "overlay",
              "size": 10,
              "solidity": 0.2
             }
            },
            "type": "histogram"
           }
          ],
          "histogram2d": [
           {
            "colorbar": {
             "outlinewidth": 0,
             "ticks": ""
            },
            "colorscale": [
             [
              0,
              "#0d0887"
             ],
             [
              0.1111111111111111,
              "#46039f"
             ],
             [
              0.2222222222222222,
              "#7201a8"
             ],
             [
              0.3333333333333333,
              "#9c179e"
             ],
             [
              0.4444444444444444,
              "#bd3786"
             ],
             [
              0.5555555555555556,
              "#d8576b"
             ],
             [
              0.6666666666666666,
              "#ed7953"
             ],
             [
              0.7777777777777778,
              "#fb9f3a"
             ],
             [
              0.8888888888888888,
              "#fdca26"
             ],
             [
              1,
              "#f0f921"
             ]
            ],
            "type": "histogram2d"
           }
          ],
          "histogram2dcontour": [
           {
            "colorbar": {
             "outlinewidth": 0,
             "ticks": ""
            },
            "colorscale": [
             [
              0,
              "#0d0887"
             ],
             [
              0.1111111111111111,
              "#46039f"
             ],
             [
              0.2222222222222222,
              "#7201a8"
             ],
             [
              0.3333333333333333,
              "#9c179e"
             ],
             [
              0.4444444444444444,
              "#bd3786"
             ],
             [
              0.5555555555555556,
              "#d8576b"
             ],
             [
              0.6666666666666666,
              "#ed7953"
             ],
             [
              0.7777777777777778,
              "#fb9f3a"
             ],
             [
              0.8888888888888888,
              "#fdca26"
             ],
             [
              1,
              "#f0f921"
             ]
            ],
            "type": "histogram2dcontour"
           }
          ],
          "mesh3d": [
           {
            "colorbar": {
             "outlinewidth": 0,
             "ticks": ""
            },
            "type": "mesh3d"
           }
          ],
          "parcoords": [
           {
            "line": {
             "colorbar": {
              "outlinewidth": 0,
              "ticks": ""
             }
            },
            "type": "parcoords"
           }
          ],
          "pie": [
           {
            "automargin": true,
            "type": "pie"
           }
          ],
          "scatter": [
           {
            "fillpattern": {
             "fillmode": "overlay",
             "size": 10,
             "solidity": 0.2
            },
            "type": "scatter"
           }
          ],
          "scatter3d": [
           {
            "line": {
             "colorbar": {
              "outlinewidth": 0,
              "ticks": ""
             }
            },
            "marker": {
             "colorbar": {
              "outlinewidth": 0,
              "ticks": ""
             }
            },
            "type": "scatter3d"
           }
          ],
          "scattercarpet": [
           {
            "marker": {
             "colorbar": {
              "outlinewidth": 0,
              "ticks": ""
             }
            },
            "type": "scattercarpet"
           }
          ],
          "scattergeo": [
           {
            "marker": {
             "colorbar": {
              "outlinewidth": 0,
              "ticks": ""
             }
            },
            "type": "scattergeo"
           }
          ],
          "scattergl": [
           {
            "marker": {
             "colorbar": {
              "outlinewidth": 0,
              "ticks": ""
             }
            },
            "type": "scattergl"
           }
          ],
          "scattermapbox": [
           {
            "marker": {
             "colorbar": {
              "outlinewidth": 0,
              "ticks": ""
             }
            },
            "type": "scattermapbox"
           }
          ],
          "scatterpolar": [
           {
            "marker": {
             "colorbar": {
              "outlinewidth": 0,
              "ticks": ""
             }
            },
            "type": "scatterpolar"
           }
          ],
          "scatterpolargl": [
           {
            "marker": {
             "colorbar": {
              "outlinewidth": 0,
              "ticks": ""
             }
            },
            "type": "scatterpolargl"
           }
          ],
          "scatterternary": [
           {
            "marker": {
             "colorbar": {
              "outlinewidth": 0,
              "ticks": ""
             }
            },
            "type": "scatterternary"
           }
          ],
          "surface": [
           {
            "colorbar": {
             "outlinewidth": 0,
             "ticks": ""
            },
            "colorscale": [
             [
              0,
              "#0d0887"
             ],
             [
              0.1111111111111111,
              "#46039f"
             ],
             [
              0.2222222222222222,
              "#7201a8"
             ],
             [
              0.3333333333333333,
              "#9c179e"
             ],
             [
              0.4444444444444444,
              "#bd3786"
             ],
             [
              0.5555555555555556,
              "#d8576b"
             ],
             [
              0.6666666666666666,
              "#ed7953"
             ],
             [
              0.7777777777777778,
              "#fb9f3a"
             ],
             [
              0.8888888888888888,
              "#fdca26"
             ],
             [
              1,
              "#f0f921"
             ]
            ],
            "type": "surface"
           }
          ],
          "table": [
           {
            "cells": {
             "fill": {
              "color": "#EBF0F8"
             },
             "line": {
              "color": "white"
             }
            },
            "header": {
             "fill": {
              "color": "#C8D4E3"
             },
             "line": {
              "color": "white"
             }
            },
            "type": "table"
           }
          ]
         },
         "layout": {
          "annotationdefaults": {
           "arrowcolor": "#2a3f5f",
           "arrowhead": 0,
           "arrowwidth": 1
          },
          "autotypenumbers": "strict",
          "coloraxis": {
           "colorbar": {
            "outlinewidth": 0,
            "ticks": ""
           }
          },
          "colorscale": {
           "diverging": [
            [
             0,
             "#8e0152"
            ],
            [
             0.1,
             "#c51b7d"
            ],
            [
             0.2,
             "#de77ae"
            ],
            [
             0.3,
             "#f1b6da"
            ],
            [
             0.4,
             "#fde0ef"
            ],
            [
             0.5,
             "#f7f7f7"
            ],
            [
             0.6,
             "#e6f5d0"
            ],
            [
             0.7,
             "#b8e186"
            ],
            [
             0.8,
             "#7fbc41"
            ],
            [
             0.9,
             "#4d9221"
            ],
            [
             1,
             "#276419"
            ]
           ],
           "sequential": [
            [
             0,
             "#0d0887"
            ],
            [
             0.1111111111111111,
             "#46039f"
            ],
            [
             0.2222222222222222,
             "#7201a8"
            ],
            [
             0.3333333333333333,
             "#9c179e"
            ],
            [
             0.4444444444444444,
             "#bd3786"
            ],
            [
             0.5555555555555556,
             "#d8576b"
            ],
            [
             0.6666666666666666,
             "#ed7953"
            ],
            [
             0.7777777777777778,
             "#fb9f3a"
            ],
            [
             0.8888888888888888,
             "#fdca26"
            ],
            [
             1,
             "#f0f921"
            ]
           ],
           "sequentialminus": [
            [
             0,
             "#0d0887"
            ],
            [
             0.1111111111111111,
             "#46039f"
            ],
            [
             0.2222222222222222,
             "#7201a8"
            ],
            [
             0.3333333333333333,
             "#9c179e"
            ],
            [
             0.4444444444444444,
             "#bd3786"
            ],
            [
             0.5555555555555556,
             "#d8576b"
            ],
            [
             0.6666666666666666,
             "#ed7953"
            ],
            [
             0.7777777777777778,
             "#fb9f3a"
            ],
            [
             0.8888888888888888,
             "#fdca26"
            ],
            [
             1,
             "#f0f921"
            ]
           ]
          },
          "colorway": [
           "#636efa",
           "#EF553B",
           "#00cc96",
           "#ab63fa",
           "#FFA15A",
           "#19d3f3",
           "#FF6692",
           "#B6E880",
           "#FF97FF",
           "#FECB52"
          ],
          "font": {
           "color": "#2a3f5f"
          },
          "geo": {
           "bgcolor": "white",
           "lakecolor": "white",
           "landcolor": "#E5ECF6",
           "showlakes": true,
           "showland": true,
           "subunitcolor": "white"
          },
          "hoverlabel": {
           "align": "left"
          },
          "hovermode": "closest",
          "mapbox": {
           "style": "light"
          },
          "paper_bgcolor": "white",
          "plot_bgcolor": "#E5ECF6",
          "polar": {
           "angularaxis": {
            "gridcolor": "white",
            "linecolor": "white",
            "ticks": ""
           },
           "bgcolor": "#E5ECF6",
           "radialaxis": {
            "gridcolor": "white",
            "linecolor": "white",
            "ticks": ""
           }
          },
          "scene": {
           "xaxis": {
            "backgroundcolor": "#E5ECF6",
            "gridcolor": "white",
            "gridwidth": 2,
            "linecolor": "white",
            "showbackground": true,
            "ticks": "",
            "zerolinecolor": "white"
           },
           "yaxis": {
            "backgroundcolor": "#E5ECF6",
            "gridcolor": "white",
            "gridwidth": 2,
            "linecolor": "white",
            "showbackground": true,
            "ticks": "",
            "zerolinecolor": "white"
           },
           "zaxis": {
            "backgroundcolor": "#E5ECF6",
            "gridcolor": "white",
            "gridwidth": 2,
            "linecolor": "white",
            "showbackground": true,
            "ticks": "",
            "zerolinecolor": "white"
           }
          },
          "shapedefaults": {
           "line": {
            "color": "#2a3f5f"
           }
          },
          "ternary": {
           "aaxis": {
            "gridcolor": "white",
            "linecolor": "white",
            "ticks": ""
           },
           "baxis": {
            "gridcolor": "white",
            "linecolor": "white",
            "ticks": ""
           },
           "bgcolor": "#E5ECF6",
           "caxis": {
            "gridcolor": "white",
            "linecolor": "white",
            "ticks": ""
           }
          },
          "title": {
           "x": 0.05
          },
          "xaxis": {
           "automargin": true,
           "gridcolor": "white",
           "linecolor": "white",
           "ticks": "",
           "title": {
            "standoff": 15
           },
           "zerolinecolor": "white",
           "zerolinewidth": 2
          },
          "yaxis": {
           "automargin": true,
           "gridcolor": "white",
           "linecolor": "white",
           "ticks": "",
           "title": {
            "standoff": 15
           },
           "zerolinecolor": "white",
           "zerolinewidth": 2
          }
         }
        },
        "title": {
         "text": "Box Plots for Short Trips"
        },
        "xaxis": {
         "anchor": "y",
         "autorange": true,
         "domain": [
          0,
          1
         ],
         "range": [
          -0.5225806451612903,
          6.5
         ],
         "title": {
          "text": "Variable"
         },
         "type": "category"
        },
        "yaxis": {
         "anchor": "x",
         "autorange": true,
         "domain": [
          0,
          1
         ],
         "range": [
          2573791.5,
          1141441721.5
         ],
         "title": {
          "text": "Value"
         },
         "type": "linear"
        }
       }
      },
      "image/png": "[encoded data removed]",
      "text/html": [
       "<div>                            <div id=\"ac210c01-4a7a-48c7-9020-0d26c970b69c\" class=\"plotly-graph-div\" style=\"height:525px; width:100%;\"></div>            <script type=\"text/javascript\">                require([\"plotly\"], function(Plotly) {                    window.PLOTLYENV=window.PLOTLYENV || {};                                    if (document.getElementById(\"ac210c01-4a7a-48c7-9020-0d26c970b69c\")) {                    Plotly.newPlot(                        \"ac210c01-4a7a-48c7-9020-0d26c970b69c\",                        [{\"alignmentgroup\":\"True\",\"boxpoints\":\"all\",\"hovertemplate\":\"Variable=%{x}\\u003cbr\\u003eValue=%{y}\\u003cextra\\u003e\\u003c\\u002fextra\\u003e\",\"legendgroup\":\"\",\"marker\":{\"color\":\"#636efa\"},\"name\":\"\",\"notched\":false,\"offsetgroup\":\"\",\"orientation\":\"v\",\"showlegend\":false,\"x\":[\"Trips \\u003c1 Mile\",\"Trips \\u003c1 Mile\",\"Trips \\u003c1 Mile\",\"Trips \\u003c1 Mile\",\"Trips \\u003c1 Mile\",\"Trips \\u003c1 Mile\",\"Trips \\u003c1 Mile\",\"Trips 1-25 Miles\",\"Trips 1-25 Miles\",\"Trips 1-25 Miles\",\"Trips 1-25 Miles\",\"Trips 1-25 Miles\",\"Trips 1-25 Miles\",\"Trips 1-25 Miles\",\"Trips 1-3 Miles\",\"Trips 1-3 Miles\",\"Trips 1-3 Miles\",\"Trips 1-3 Miles\",\"Trips 1-3 Miles\",\"Trips 1-3 Miles\",\"Trips 1-3 Miles\",\"Trips 10-25 Miles\",\"Trips 10-25 Miles\",\"Trips 10-25 Miles\",\"Trips 10-25 Miles\",\"Trips 10-25 Miles\",\"Trips 10-25 Miles\",\"Trips 10-25 Miles\",\"Trips 3-5 Miles\",\"Trips 3-5 Miles\",\"Trips 3-5 Miles\",\"Trips 3-5 Miles\",\"Trips 3-5 Miles\",\"Trips 3-5 Miles\",\"Trips 3-5 Miles\",\"Trips 5-10 Miles\",\"Trips 5-10 Miles\",\"Trips 5-10 Miles\",\"Trips 5-10 Miles\",\"Trips 5-10 Miles\",\"Trips 5-10 Miles\",\"Trips 5-10 Miles\",\"Trips 25-50 Miles\",\"Trips 25-50 Miles\",\"Trips 25-50 Miles\",\"Trips 25-50 Miles\",\"Trips 25-50 Miles\",\"Trips 25-50 Miles\",\"Trips 25-50 Miles\"],\"x0\":\" \",\"xaxis\":\"x\",\"y\":[292959749,317133861,324443205,358483024,300765870,341515854,346532975,934957837,996863262,1014614495,1084498325,984193010,1052793819,1040967509,346577279,358008909,366533991,401474049,347857770,378936486,386948113,200922270,228809869,235621127,249988663,226055368,245571995,230580285,171336406,178996059,179210645,189163336,179346163,186257669,186580557,216121882,231048425,233248732,243872277,230933709,242027669,236858554,59517188,68184743,70149166,74381367,66724543,74512584,70644329],\"y0\":\" \",\"yaxis\":\"y\",\"type\":\"box\"}],                        {\"template\":{\"data\":{\"histogram2dcontour\":[{\"type\":\"histogram2dcontour\",\"colorbar\":{\"outlinewidth\":0,\"ticks\":\"\"},\"colorscale\":[[0.0,\"#0d0887\"],[0.1111111111111111,\"#46039f\"],[0.2222222222222222,\"#7201a8\"],[0.3333333333333333,\"#9c179e\"],[0.4444444444444444,\"#bd3786\"],[0.5555555555555556,\"#d8576b\"],[0.6666666666666666,\"#ed7953\"],[0.7777777777777778,\"#fb9f3a\"],[0.8888888888888888,\"#fdca26\"],[1.0,\"#f0f921\"]]}],\"choropleth\":[{\"type\":\"choropleth\",\"colorbar\":{\"outlinewidth\":0,\"ticks\":\"\"}}],\"histogram2d\":[{\"type\":\"histogram2d\",\"colorbar\":{\"outlinewidth\":0,\"ticks\":\"\"},\"colorscale\":[[0.0,\"#0d0887\"],[0.1111111111111111,\"#46039f\"],[0.2222222222222222,\"#7201a8\"],[0.3333333333333333,\"#9c179e\"],[0.4444444444444444,\"#bd3786\"],[0.5555555555555556,\"#d8576b\"],[0.6666666666666666,\"#ed7953\"],[0.7777777777777778,\"#fb9f3a\"],[0.8888888888888888,\"#fdca26\"],[1.0,\"#f0f921\"]]}],\"heatmap\":[{\"type\":\"heatmap\",\"colorbar\":{\"outlinewidth\":0,\"ticks\":\"\"},\"colorscale\":[[0.0,\"#0d0887\"],[0.1111111111111111,\"#46039f\"],[0.2222222222222222,\"#7201a8\"],[0.3333333333333333,\"#9c179e\"],[0.4444444444444444,\"#bd3786\"],[0.5555555555555556,\"#d8576b\"],[0.6666666666666666,\"#ed7953\"],[0.7777777777777778,\"#fb9f3a\"],[0.8888888888888888,\"#fdca26\"],[1.0,\"#f0f921\"]]}],\"heatmapgl\":[{\"type\":\"heatmapgl\",\"colorbar\":{\"outlinewidth\":0,\"ticks\":\"\"},\"colorscale\":[[0.0,\"#0d0887\"],[0.1111111111111111,\"#46039f\"],[0.2222222222222222,\"#7201a8\"],[0.3333333333333333,\"#9c179e\"],[0.4444444444444444,\"#bd3786\"],[0.5555555555555556,\"#d8576b\"],[0.6666666666666666,\"#ed7953\"],[0.7777777777777778,\"#fb9f3a\"],[0.8888888888888888,\"#fdca26\"],[1.0,\"#f0f921\"]]}],\"contourcarpet\":[{\"type\":\"contourcarpet\",\"colorbar\":{\"outlinewidth\":0,\"ticks\":\"\"}}],\"contour\":[{\"type\":\"contour\",\"colorbar\":{\"outlinewidth\":0,\"ticks\":\"\"},\"colorscale\":[[0.0,\"#0d0887\"],[0.1111111111111111,\"#46039f\"],[0.2222222222222222,\"#7201a8\"],[0.3333333333333333,\"#9c179e\"],[0.4444444444444444,\"#bd3786\"],[0.5555555555555556,\"#d8576b\"],[0.6666666666666666,\"#ed7953\"],[0.7777777777777778,\"#fb9f3a\"],[0.8888888888888888,\"#fdca26\"],[1.0,\"#f0f921\"]]}],\"surface\":[{\"type\":\"surface\",\"colorbar\":{\"outlinewidth\":0,\"ticks\":\"\"},\"colorscale\":[[0.0,\"#0d0887\"],[0.1111111111111111,\"#46039f\"],[0.2222222222222222,\"#7201a8\"],[0.3333333333333333,\"#9c179e\"],[0.4444444444444444,\"#bd3786\"],[0.5555555555555556,\"#d8576b\"],[0.6666666666666666,\"#ed7953\"],[0.7777777777777778,\"#fb9f3a\"],[0.8888888888888888,\"#fdca26\"],[1.0,\"#f0f921\"]]}],\"mesh3d\":[{\"type\":\"mesh3d\",\"colorbar\":{\"outlinewidth\":0,\"ticks\":\"\"}}],\"scatter\":[{\"fillpattern\":{\"fillmode\":\"overlay\",\"size\":10,\"solidity\":0.2},\"type\":\"scatter\"}],\"parcoords\":[{\"type\":\"parcoords\",\"line\":{\"colorbar\":{\"outlinewidth\":0,\"ticks\":\"\"}}}],\"scatterpolargl\":[{\"type\":\"scatterpolargl\",\"marker\":{\"colorbar\":{\"outlinewidth\":0,\"ticks\":\"\"}}}],\"bar\":[{\"error_x\":{\"color\":\"#2a3f5f\"},\"error_y\":{\"color\":\"#2a3f5f\"},\"marker\":{\"line\":{\"color\":\"#E5ECF6\",\"width\":0.5},\"pattern\":{\"fillmode\":\"overlay\",\"size\":10,\"solidity\":0.2}},\"type\":\"bar\"}],\"scattergeo\":[{\"type\":\"scattergeo\",\"marker\":{\"colorbar\":{\"outlinewidth\":0,\"ticks\":\"\"}}}],\"scatterpolar\":[{\"type\":\"scatterpolar\",\"marker\":{\"colorbar\":{\"outlinewidth\":0,\"ticks\":\"\"}}}],\"histogram\":[{\"marker\":{\"pattern\":{\"fillmode\":\"overlay\",\"size\":10,\"solidity\":0.2}},\"type\":\"histogram\"}],\"scattergl\":[{\"type\":\"scattergl\",\"marker\":{\"colorbar\":{\"outlinewidth\":0,\"ticks\":\"\"}}}],\"scatter3d\":[{\"type\":\"scatter3d\",\"line\":{\"colorbar\":{\"outlinewidth\":0,\"ticks\":\"\"}},\"marker\":{\"colorbar\":{\"outlinewidth\":0,\"ticks\":\"\"}}}],\"scattermapbox\":[{\"type\":\"scattermapbox\",\"marker\":{\"colorbar\":{\"outlinewidth\":0,\"ticks\":\"\"}}}],\"scatterternary\":[{\"type\":\"scatterternary\",\"marker\":{\"colorbar\":{\"outlinewidth\":0,\"ticks\":\"\"}}}],\"scattercarpet\":[{\"type\":\"scattercarpet\",\"marker\":{\"colorbar\":{\"outlinewidth\":0,\"ticks\":\"\"}}}],\"carpet\":[{\"aaxis\":{\"endlinecolor\":\"#2a3f5f\",\"gridcolor\":\"white\",\"linecolor\":\"white\",\"minorgridcolor\":\"white\",\"startlinecolor\":\"#2a3f5f\"},\"baxis\":{\"endlinecolor\":\"#2a3f5f\",\"gridcolor\":\"white\",\"linecolor\":\"white\",\"minorgridcolor\":\"white\",\"startlinecolor\":\"#2a3f5f\"},\"type\":\"carpet\"}],\"table\":[{\"cells\":{\"fill\":{\"color\":\"#EBF0F8\"},\"line\":{\"color\":\"white\"}},\"header\":{\"fill\":{\"color\":\"#C8D4E3\"},\"line\":{\"color\":\"white\"}},\"type\":\"table\"}],\"barpolar\":[{\"marker\":{\"line\":{\"color\":\"#E5ECF6\",\"width\":0.5},\"pattern\":{\"fillmode\":\"overlay\",\"size\":10,\"solidity\":0.2}},\"type\":\"barpolar\"}],\"pie\":[{\"automargin\":true,\"type\":\"pie\"}]},\"layout\":{\"autotypenumbers\":\"strict\",\"colorway\":[\"#636efa\",\"#EF553B\",\"#00cc96\",\"#ab63fa\",\"#FFA15A\",\"#19d3f3\",\"#FF6692\",\"#B6E880\",\"#FF97FF\",\"#FECB52\"],\"font\":{\"color\":\"#2a3f5f\"},\"hovermode\":\"closest\",\"hoverlabel\":{\"align\":\"left\"},\"paper_bgcolor\":\"white\",\"plot_bgcolor\":\"#E5ECF6\",\"polar\":{\"bgcolor\":\"#E5ECF6\",\"angularaxis\":{\"gridcolor\":\"white\",\"linecolor\":\"white\",\"ticks\":\"\"},\"radialaxis\":{\"gridcolor\":\"white\",\"linecolor\":\"white\",\"ticks\":\"\"}},\"ternary\":{\"bgcolor\":\"#E5ECF6\",\"aaxis\":{\"gridcolor\":\"white\",\"linecolor\":\"white\",\"ticks\":\"\"},\"baxis\":{\"gridcolor\":\"white\",\"linecolor\":\"white\",\"ticks\":\"\"},\"caxis\":{\"gridcolor\":\"white\",\"linecolor\":\"white\",\"ticks\":\"\"}},\"coloraxis\":{\"colorbar\":{\"outlinewidth\":0,\"ticks\":\"\"}},\"colorscale\":{\"sequential\":[[0.0,\"#0d0887\"],[0.1111111111111111,\"#46039f\"],[0.2222222222222222,\"#7201a8\"],[0.3333333333333333,\"#9c179e\"],[0.4444444444444444,\"#bd3786\"],[0.5555555555555556,\"#d8576b\"],[0.6666666666666666,\"#ed7953\"],[0.7777777777777778,\"#fb9f3a\"],[0.8888888888888888,\"#fdca26\"],[1.0,\"#f0f921\"]],\"sequentialminus\":[[0.0,\"#0d0887\"],[0.1111111111111111,\"#46039f\"],[0.2222222222222222,\"#7201a8\"],[0.3333333333333333,\"#9c179e\"],[0.4444444444444444,\"#bd3786\"],[0.5555555555555556,\"#d8576b\"],[0.6666666666666666,\"#ed7953\"],[0.7777777777777778,\"#fb9f3a\"],[0.8888888888888888,\"#fdca26\"],[1.0,\"#f0f921\"]],\"diverging\":[[0,\"#8e0152\"],[0.1,\"#c51b7d\"],[0.2,\"#de77ae\"],[0.3,\"#f1b6da\"],[0.4,\"#fde0ef\"],[0.5,\"#f7f7f7\"],[0.6,\"#e6f5d0\"],[0.7,\"#b8e186\"],[0.8,\"#7fbc41\"],[0.9,\"#4d9221\"],[1,\"#276419\"]]},\"xaxis\":{\"gridcolor\":\"white\",\"linecolor\":\"white\",\"ticks\":\"\",\"title\":{\"standoff\":15},\"zerolinecolor\":\"white\",\"automargin\":true,\"zerolinewidth\":2},\"yaxis\":{\"gridcolor\":\"white\",\"linecolor\":\"white\",\"ticks\":\"\",\"title\":{\"standoff\":15},\"zerolinecolor\":\"white\",\"automargin\":true,\"zerolinewidth\":2},\"scene\":{\"xaxis\":{\"backgroundcolor\":\"#E5ECF6\",\"gridcolor\":\"white\",\"linecolor\":\"white\",\"showbackground\":true,\"ticks\":\"\",\"zerolinecolor\":\"white\",\"gridwidth\":2},\"yaxis\":{\"backgroundcolor\":\"#E5ECF6\",\"gridcolor\":\"white\",\"linecolor\":\"white\",\"showbackground\":true,\"ticks\":\"\",\"zerolinecolor\":\"white\",\"gridwidth\":2},\"zaxis\":{\"backgroundcolor\":\"#E5ECF6\",\"gridcolor\":\"white\",\"linecolor\":\"white\",\"showbackground\":true,\"ticks\":\"\",\"zerolinecolor\":\"white\",\"gridwidth\":2}},\"shapedefaults\":{\"line\":{\"color\":\"#2a3f5f\"}},\"annotationdefaults\":{\"arrowcolor\":\"#2a3f5f\",\"arrowhead\":0,\"arrowwidth\":1},\"geo\":{\"bgcolor\":\"white\",\"landcolor\":\"#E5ECF6\",\"subunitcolor\":\"white\",\"showland\":true,\"showlakes\":true,\"lakecolor\":\"white\"},\"title\":{\"x\":0.05},\"mapbox\":{\"style\":\"light\"}}},\"xaxis\":{\"anchor\":\"y\",\"domain\":[0.0,1.0],\"title\":{\"text\":\"Variable\"}},\"yaxis\":{\"anchor\":\"x\",\"domain\":[0.0,1.0],\"title\":{\"text\":\"Value\"}},\"legend\":{\"tracegroupgap\":0},\"title\":{\"text\":\"Box Plots for Short Trips\"},\"boxmode\":\"group\"},                        {\"responsive\": true}                    ).then(function(){\n",
       "                            \n",
       "var gd = document.getElementById('ac210c01-4a7a-48c7-9020-0d26c970b69c');\n",
       "var x = new MutationObserver(function (mutations, observer) {{\n",
       "        var display = window.getComputedStyle(gd).display;\n",
       "        if (!display || display === 'none') {{\n",
       "            console.log([gd, 'removed!']);\n",
       "            Plotly.purge(gd);\n",
       "            observer.disconnect();\n",
       "        }}\n",
       "}});\n",
       "\n",
       "// Listen for the removal of the full notebook cells\n",
       "var notebookContainer = gd.closest('#notebook-container');\n",
       "if (notebookContainer) {{\n",
       "    x.observe(notebookContainer, {childList: true});\n",
       "}}\n",
       "\n",
       "// Listen for the clearing of the current output cell\n",
       "var outputEl = gd.closest('.output');\n",
       "if (outputEl) {{\n",
       "    x.observe(outputEl, {childList: true});\n",
       "}}\n",
       "\n",
       "                        })                };                });            </script>        </div>"
      ]
     },
     "metadata": {},
     "output_type": "display_data"
    }
   ],
   "source": [
    "boxplot_variables = ['Trips <1 Mile', 'Trips 1-25 Miles', 'Trips 1-3 Miles','Trips 10-25 Miles','Trips 3-5 Miles',\n",
    "                      'Trips 5-10 Miles','Trips 25-50 Miles'\n",
    "                       ]\n",
    "\n",
    "# Select the desired variables for the box plots\n",
    "boxplot_data = full_data.compute()[boxplot_variables]\n",
    "\n",
    "# Melt the DataFrame to create long-form data suitable for box plots\n",
    "melted_data = pd.melt(boxplot_data, var_name='Variable', value_name='Value')\n",
    "\n",
    "# Create box plots using Plotly Express\n",
    "fig = px.box(melted_data, x='Variable', y='Value', points=\"all\", title='Box Plots for Short Trips')\n",
    "\n",
    "# Update layout for better visualization\n",
    "fig.update_layout(xaxis_title='Variable', yaxis_title='Value')\n",
    "\n",
    "# Show the figure\n",
    "fig.show()"
   ]
  },
  {
   "cell_type": "code",
   "execution_count": null,
   "id": "dbd3e04c-8ee6-41ad-ae31-208823ab84fd",
   "metadata": {},
   "outputs": [],
   "source": [
    "boxplot_variables = ['Trips 100-250 Miles', 'Trips 100+ Miles', 'Trips 25-100 Miles',\n",
    "                       'Trips 250-500 Miles',  'Trips 50-100 Miles', 'Trips 500+ Miles'\n",
    "                       ]\n",
    "\n",
    "# Select the desired variables for the box plots\n",
    "boxplot_data = full_data.compute()[boxplot_variables]\n",
    "\n",
    "# Melt the DataFrame to create long-form data suitable for box plots\n",
    "melted_data = pd.melt(boxplot_data, var_name='Variable', value_name='Value')\n",
    "\n",
    "# Create box plots using Plotly Express\n",
    "fig = px.box(melted_data, x='Variable', y='Value', points=\"all\", title='Box Plots for Long Trips')\n",
    "\n",
    "# Update layout for better visualization\n",
    "fig.update_layout(xaxis_title='Variable', yaxis_title='Value')\n",
    "\n",
    "# Show the figure\n",
    "fig.show()"
   ]
  }
 ],
 "metadata": {
  "kernelspec": {
   "display_name": "Python 3",
   "language": "python",
   "name": "python3"
  },
  "language_info": {
   "codemirror_mode": {
    "name": "ipython",
    "version": 3
   },
   "file_extension": ".py",
   "mimetype": "text/x-python",
   "name": "python",
   "nbconvert_exporter": "python",
   "pygments_lexer": "ipython3",
   "version": "3.10.10"
  }
 },
 "nbformat": 4,
 "nbformat_minor": 5
}
